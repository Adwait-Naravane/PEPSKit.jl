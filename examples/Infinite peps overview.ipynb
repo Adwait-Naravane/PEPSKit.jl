{
 "cells": [
  {
   "cell_type": "markdown",
   "metadata": {},
   "source": [
    "In this notebook I will give an overview on how the pepskit code handles infinite peps."
   ]
  },
  {
   "cell_type": "code",
   "execution_count": 1,
   "metadata": {},
   "outputs": [],
   "source": [
    "using MPSKit,PEPSKit,TensorKit,OptimKit,Plots"
   ]
  },
  {
   "cell_type": "markdown",
   "metadata": {},
   "source": [
    "The infinite peps constructor takes a 2 dimensional array of peps tensors. The following creates a 2 by 2 unit cell peps."
   ]
  },
  {
   "cell_type": "code",
   "execution_count": 2,
   "metadata": {},
   "outputs": [],
   "source": [
    "data = map(Iterators.product(1:2,1:2)) do (i,j)\n",
    "    TensorMap(rand,ComplexF64,ℂ^2*ℂ^2*(ℂ^2)'*(ℂ^2)',(ℂ^2)')\n",
    "end\n",
    "\n",
    "peps = InfPEPS(data);"
   ]
  },
  {
   "cell_type": "markdown",
   "metadata": {},
   "source": [
    "To actually calculate anything meaningful, we need access to the peps environments. This object can be created by calling environments, and PEPSKit provides some useful methods to access the boundary tensors.\n",
    "\n",
    "One minor caveat, environments() also normalizes the peps tensors behind the scenes. It's much easier to work with our algorithms if the peps is normalized..."
   ]
  },
  {
   "cell_type": "code",
   "execution_count": 3,
   "metadata": {},
   "outputs": [
    {
     "name": "stderr",
     "output_type": "stream",
     "text": [
      "┌ Info: vumps @iteration 1 galerkin = 3.5858315778926197\n",
      "└ @ MPSKit /home/maarten/.julia/packages/MPSKit/8k96H/src/algorithms/statmech/vumps.jl:78\n",
      "┌ Info: vumps @iteration 1 galerkin = 3.0911396717436475\n",
      "└ @ MPSKit /home/maarten/.julia/packages/MPSKit/8k96H/src/algorithms/statmech/vumps.jl:78\n",
      "┌ Info: vumps @iteration 1 galerkin = 3.919003813548971\n",
      "└ @ MPSKit /home/maarten/.julia/packages/MPSKit/8k96H/src/algorithms/statmech/vumps.jl:78\n",
      "┌ Info: vumps @iteration 1 galerkin = 4.898439401879527\n",
      "└ @ MPSKit /home/maarten/.julia/packages/MPSKit/8k96H/src/algorithms/statmech/vumps.jl:78\n",
      "┌ Info: vumps @iteration 2 galerkin = 0.09064492802156049\n",
      "└ @ MPSKit /home/maarten/.julia/packages/MPSKit/8k96H/src/algorithms/statmech/vumps.jl:78\n",
      "┌ Info: vumps @iteration 2 galerkin = 0.06860328467996286\n",
      "└ @ MPSKit /home/maarten/.julia/packages/MPSKit/8k96H/src/algorithms/statmech/vumps.jl:78\n",
      "┌ Info: vumps @iteration 2 galerkin = 0.04789928174662465\n",
      "└ @ MPSKit /home/maarten/.julia/packages/MPSKit/8k96H/src/algorithms/statmech/vumps.jl:78\n",
      "┌ Info: vumps @iteration 2 galerkin = 0.04808898733460352\n",
      "└ @ MPSKit /home/maarten/.julia/packages/MPSKit/8k96H/src/algorithms/statmech/vumps.jl:78\n",
      "┌ Info: vumps @iteration 3 galerkin = 0.0014524818866413396\n",
      "└ @ MPSKit /home/maarten/.julia/packages/MPSKit/8k96H/src/algorithms/statmech/vumps.jl:78\n",
      "┌ Info: vumps @iteration 3 galerkin = 0.0007359933787524008\n",
      "└ @ MPSKit /home/maarten/.julia/packages/MPSKit/8k96H/src/algorithms/statmech/vumps.jl:78\n",
      "┌ Info: vumps @iteration 3 galerkin = 0.003222013711572836\n",
      "└ @ MPSKit /home/maarten/.julia/packages/MPSKit/8k96H/src/algorithms/statmech/vumps.jl:78\n",
      "┌ Info: vumps @iteration 3 galerkin = 0.0014747209952964172\n",
      "└ @ MPSKit /home/maarten/.julia/packages/MPSKit/8k96H/src/algorithms/statmech/vumps.jl:78\n",
      "┌ Info: vumps @iteration 4 galerkin = 2.3522539478003803e-5\n",
      "└ @ MPSKit /home/maarten/.julia/packages/MPSKit/8k96H/src/algorithms/statmech/vumps.jl:78\n",
      "┌ Info: vumps @iteration 4 galerkin = 1.3318310208809956e-5\n",
      "└ @ MPSKit /home/maarten/.julia/packages/MPSKit/8k96H/src/algorithms/statmech/vumps.jl:78\n",
      "┌ Info: vumps @iteration 4 galerkin = 1.9099634038401474e-5\n",
      "└ @ MPSKit /home/maarten/.julia/packages/MPSKit/8k96H/src/algorithms/statmech/vumps.jl:78\n",
      "┌ Info: vumps @iteration 4 galerkin = 7.572012591980311e-5\n",
      "└ @ MPSKit /home/maarten/.julia/packages/MPSKit/8k96H/src/algorithms/statmech/vumps.jl:78\n",
      "┌ Info: vumps @iteration 5 galerkin = 4.5128196637952554e-7\n",
      "└ @ MPSKit /home/maarten/.julia/packages/MPSKit/8k96H/src/algorithms/statmech/vumps.jl:78\n",
      "┌ Info: vumps @iteration 5 galerkin = 5.213688598037666e-7\n",
      "└ @ MPSKit /home/maarten/.julia/packages/MPSKit/8k96H/src/algorithms/statmech/vumps.jl:78\n",
      "┌ Info: vumps @iteration 5 galerkin = 2.541706914151956e-6\n",
      "└ @ MPSKit /home/maarten/.julia/packages/MPSKit/8k96H/src/algorithms/statmech/vumps.jl:78\n",
      "┌ Info: vumps @iteration 5 galerkin = 1.9518531238339978e-7\n",
      "└ @ MPSKit /home/maarten/.julia/packages/MPSKit/8k96H/src/algorithms/statmech/vumps.jl:78\n",
      "┌ Info: vumps @iteration 6 galerkin = 6.39290015341621e-8\n",
      "└ @ MPSKit /home/maarten/.julia/packages/MPSKit/8k96H/src/algorithms/statmech/vumps.jl:78\n",
      "┌ Info: vumps @iteration 6 galerkin = 7.79077737921745e-9\n",
      "└ @ MPSKit /home/maarten/.julia/packages/MPSKit/8k96H/src/algorithms/statmech/vumps.jl:78\n",
      "┌ Info: vumps @iteration 6 galerkin = 1.007463733314913e-8\n",
      "└ @ MPSKit /home/maarten/.julia/packages/MPSKit/8k96H/src/algorithms/statmech/vumps.jl:78\n",
      "┌ Info: vumps @iteration 6 galerkin = 4.487987257506623e-9\n",
      "└ @ MPSKit /home/maarten/.julia/packages/MPSKit/8k96H/src/algorithms/statmech/vumps.jl:78\n",
      "┌ Info: vumps @iteration 7 galerkin = 2.054237942027857e-9\n",
      "└ @ MPSKit /home/maarten/.julia/packages/MPSKit/8k96H/src/algorithms/statmech/vumps.jl:78\n",
      "┌ Info: vumps @iteration 7 galerkin = 2.246274718805685e-10\n",
      "└ @ MPSKit /home/maarten/.julia/packages/MPSKit/8k96H/src/algorithms/statmech/vumps.jl:78\n",
      "┌ Info: vumps @iteration 7 galerkin = 1.3569540412020552e-10\n",
      "└ @ MPSKit /home/maarten/.julia/packages/MPSKit/8k96H/src/algorithms/statmech/vumps.jl:78\n",
      "┌ Info: vumps @iteration 7 galerkin = 6.286047302295093e-11\n",
      "└ @ MPSKit /home/maarten/.julia/packages/MPSKit/8k96H/src/algorithms/statmech/vumps.jl:78\n",
      "┌ Info: vumps @iteration 8 galerkin = 5.589829104880568e-11\n",
      "└ @ MPSKit /home/maarten/.julia/packages/MPSKit/8k96H/src/algorithms/statmech/vumps.jl:78\n",
      "┌ Info: vumps @iteration 8 galerkin = 3.562256299430179e-12\n",
      "└ @ MPSKit /home/maarten/.julia/packages/MPSKit/8k96H/src/algorithms/statmech/vumps.jl:78\n",
      "┌ Info: vumps @iteration 8 galerkin = 1.6260287455440162e-12\n",
      "└ @ MPSKit /home/maarten/.julia/packages/MPSKit/8k96H/src/algorithms/statmech/vumps.jl:78\n",
      "┌ Info: vumps @iteration 8 galerkin = 2.6880190823645117e-12\n",
      "└ @ MPSKit /home/maarten/.julia/packages/MPSKit/8k96H/src/algorithms/statmech/vumps.jl:78\n",
      "┌ Info: vumps @iteration 9 galerkin = 1.7108303028840909e-12\n",
      "└ @ MPSKit /home/maarten/.julia/packages/MPSKit/8k96H/src/algorithms/statmech/vumps.jl:78\n",
      "┌ Info: vumps @iteration 9 galerkin = 1.7335961056007432e-13\n",
      "└ @ MPSKit /home/maarten/.julia/packages/MPSKit/8k96H/src/algorithms/statmech/vumps.jl:78\n",
      "┌ Info: vumps @iteration 9 galerkin = 8.329780729097592e-14\n",
      "└ @ MPSKit /home/maarten/.julia/packages/MPSKit/8k96H/src/algorithms/statmech/vumps.jl:78\n",
      "┌ Info: vumps @iteration 9 galerkin = 1.0735253873098164e-13\n",
      "└ @ MPSKit /home/maarten/.julia/packages/MPSKit/8k96H/src/algorithms/statmech/vumps.jl:78\n",
      "┌ Info: vumps @iteration 10 galerkin = 1.2964438924174538e-13\n",
      "└ @ MPSKit /home/maarten/.julia/packages/MPSKit/8k96H/src/algorithms/statmech/vumps.jl:78\n"
     ]
    },
    {
     "data": {
      "text/plain": [
       "(ℂ^1 ⊗ ℂ^2 ⊗ (ℂ^2)') ← ℂ^1"
      ]
     },
     "execution_count": 3,
     "metadata": {},
     "output_type": "execute_result"
    }
   ],
   "source": [
    "env = environments(peps);\n",
    "codomain(AC(env,North,2,2)) ← domain(AC(env,North,2,2))"
   ]
  },
  {
   "cell_type": "markdown",
   "metadata": {},
   "source": [
    "As you can see, by default the environment tensors are trivial chi = 1. There is no easy way to change this, at the moment you have to make use of the MPSKit finalize - changebonds machinery."
   ]
  },
  {
   "cell_type": "code",
   "execution_count": 4,
   "metadata": {},
   "outputs": [
    {
     "data": {
      "text/plain": [
       "(ℂ^17 ⊗ ℂ^2 ⊗ (ℂ^2)') ← ℂ^17"
      ]
     },
     "execution_count": 4,
     "metadata": {},
     "output_type": "execute_result"
    }
   ],
   "source": [
    "function bound_finalize(iter,state,ham,pars)\n",
    "    maxD = 50;\n",
    "    \n",
    "    # check every virtual bond dimension and see if it's larger then maxD\n",
    "    bigenough = reduce((a,(i,j))-> a && dim(virtualspace(state,i,j))>=maxD,\n",
    "        Iterators.product(1:size(state,1),1:size(state,2)),init=true)\n",
    "    \n",
    "    if !bigenough \n",
    "        (state,pars) = changebonds!(state,ham,OptimalExpand(trscheme=truncdim(1)),pars)\n",
    "    end\n",
    "    \n",
    "    return (state,pars,true)\n",
    "end\n",
    "env = environments(peps,alg=Vumps(verbose=false,finalize! = bound_finalize))\n",
    "\n",
    "codomain(AC(env,North,2,2)) ← domain(AC(env,North,2,2))"
   ]
  },
  {
   "cell_type": "markdown",
   "metadata": {},
   "source": [
    "It is now very easy to calculate the norm of our infinite mps in a bunch of different ways"
   ]
  },
  {
   "cell_type": "code",
   "execution_count": 5,
   "metadata": {},
   "outputs": [
    {
     "data": {
      "text/plain": [
       "0.999999988520201 + 3.6467384117858794e-16im"
      ]
     },
     "execution_count": 5,
     "metadata": {},
     "output_type": "execute_result"
    }
   ],
   "source": [
    "@tensor fp1RL(env,North,1,1)[1,2,3,4]*fp1LR(env,South,0,1)[4,2,3,1]"
   ]
  },
  {
   "cell_type": "code",
   "execution_count": 6,
   "metadata": {},
   "outputs": [
    {
     "data": {
      "text/plain": [
       "0.9999999999999999 + 8.881326720548817e-16im"
      ]
     },
     "execution_count": 6,
     "metadata": {},
     "output_type": "execute_result"
    }
   ],
   "source": [
    "@tensor fp0RL(env,East,1,1)[1,2]*fp0LR(env,West,0,2)[2,1]"
   ]
  },
  {
   "cell_type": "code",
   "execution_count": 7,
   "metadata": {},
   "outputs": [
    {
     "data": {
      "text/plain": [
       "1.0 + 1.285433464805449e-15im"
      ]
     },
     "execution_count": 7,
     "metadata": {},
     "output_type": "execute_result"
    }
   ],
   "source": [
    "@tensor fp1LR(env,North,2,2)[1,2,3,4]*\n",
    "        corner(env,NorthEast,2,2)[4,5]*\n",
    "        fp1LR(env,East,2,2)[5,6,7,8]*\n",
    "        corner(env,SouthEast,2,2)[8,9]*\n",
    "        fp1LR(env,South,2,2)[9,10,11,12]*\n",
    "        corner(env,SouthWest,2,2)[12,13]*\n",
    "        fp1LR(env,West,2,2)[13,14,15,16]*\n",
    "        corner(env,NorthWest,2,2)[16,1]*\n",
    "        peps[2,2][14,10,6,2,17]*\n",
    "        conj(peps[2,2][15,11,7,3,17])"
   ]
  },
  {
   "cell_type": "markdown",
   "metadata": {},
   "source": [
    "Anyway, this probably makes very little sense unless you know the ins and outs already. It should clarify why things like measuring expectation values require passing in the environment object itself :"
   ]
  },
  {
   "cell_type": "code",
   "execution_count": 8,
   "metadata": {},
   "outputs": [
    {
     "data": {
      "image/svg+xml": [
       "<?xml version=\"1.0\" encoding=\"utf-8\"?>\n",
       "<svg xmlns=\"http://www.w3.org/2000/svg\" xmlns:xlink=\"http://www.w3.org/1999/xlink\" width=\"600\" height=\"400\" viewBox=\"0 0 2400 1600\">\n",
       "<defs>\n",
       "  <clipPath id=\"clip630\">\n",
       "    <rect x=\"0\" y=\"0\" width=\"2400\" height=\"1600\"/>\n",
       "  </clipPath>\n",
       "</defs>\n",
       "<path clip-path=\"url(#clip630)\" d=\"\n",
       "M0 1600 L2400 1600 L2400 0 L0 0  Z\n",
       "  \" fill=\"#ffffff\" fill-rule=\"evenodd\" fill-opacity=\"1\"/>\n",
       "<defs>\n",
       "  <clipPath id=\"clip631\">\n",
       "    <rect x=\"480\" y=\"0\" width=\"1681\" height=\"1600\"/>\n",
       "  </clipPath>\n",
       "</defs>\n",
       "<path clip-path=\"url(#clip630)\" d=\"\n",
       "M146.853 1486.45 L2112.76 1486.45 L2112.76 47.2441 L146.853 47.2441  Z\n",
       "  \" fill=\"#ffffff\" fill-rule=\"evenodd\" fill-opacity=\"1\"/>\n",
       "<defs>\n",
       "  <clipPath id=\"clip632\">\n",
       "    <rect x=\"146\" y=\"47\" width=\"1967\" height=\"1440\"/>\n",
       "  </clipPath>\n",
       "</defs>\n",
       "<polyline clip-path=\"url(#clip632)\" style=\"stroke:#000000; stroke-width:2; stroke-opacity:0.1; fill:none\" points=\"\n",
       "  146.853,1486.45 146.853,47.2441 \n",
       "  \"/>\n",
       "<polyline clip-path=\"url(#clip632)\" style=\"stroke:#000000; stroke-width:2; stroke-opacity:0.1; fill:none\" points=\"\n",
       "  638.329,1486.45 638.329,47.2441 \n",
       "  \"/>\n",
       "<polyline clip-path=\"url(#clip632)\" style=\"stroke:#000000; stroke-width:2; stroke-opacity:0.1; fill:none\" points=\"\n",
       "  1129.8,1486.45 1129.8,47.2441 \n",
       "  \"/>\n",
       "<polyline clip-path=\"url(#clip632)\" style=\"stroke:#000000; stroke-width:2; stroke-opacity:0.1; fill:none\" points=\"\n",
       "  1621.28,1486.45 1621.28,47.2441 \n",
       "  \"/>\n",
       "<polyline clip-path=\"url(#clip632)\" style=\"stroke:#000000; stroke-width:2; stroke-opacity:0.1; fill:none\" points=\"\n",
       "  2112.76,1486.45 2112.76,47.2441 \n",
       "  \"/>\n",
       "<polyline clip-path=\"url(#clip630)\" style=\"stroke:#000000; stroke-width:4; stroke-opacity:1; fill:none\" points=\"\n",
       "  146.853,1486.45 2112.76,1486.45 \n",
       "  \"/>\n",
       "<polyline clip-path=\"url(#clip630)\" style=\"stroke:#000000; stroke-width:4; stroke-opacity:1; fill:none\" points=\"\n",
       "  146.853,1486.45 146.853,1469.18 \n",
       "  \"/>\n",
       "<polyline clip-path=\"url(#clip630)\" style=\"stroke:#000000; stroke-width:4; stroke-opacity:1; fill:none\" points=\"\n",
       "  638.329,1486.45 638.329,1469.18 \n",
       "  \"/>\n",
       "<polyline clip-path=\"url(#clip630)\" style=\"stroke:#000000; stroke-width:4; stroke-opacity:1; fill:none\" points=\"\n",
       "  1129.8,1486.45 1129.8,1469.18 \n",
       "  \"/>\n",
       "<polyline clip-path=\"url(#clip630)\" style=\"stroke:#000000; stroke-width:4; stroke-opacity:1; fill:none\" points=\"\n",
       "  1621.28,1486.45 1621.28,1469.18 \n",
       "  \"/>\n",
       "<polyline clip-path=\"url(#clip630)\" style=\"stroke:#000000; stroke-width:4; stroke-opacity:1; fill:none\" points=\"\n",
       "  2112.76,1486.45 2112.76,1469.18 \n",
       "  \"/>\n",
       "<path clip-path=\"url(#clip630)\" d=\"M 0 0 M128.867 1515.64 Q125.256 1515.64 123.427 1519.2 Q121.622 1522.75 121.622 1529.87 Q121.622 1536.98 123.427 1540.55 Q125.256 1544.09 128.867 1544.09 Q132.501 1544.09 134.307 1540.55 Q136.135 1536.98 136.135 1529.87 Q136.135 1522.75 134.307 1519.2 Q132.501 1515.64 128.867 1515.64 M128.867 1511.93 Q134.677 1511.93 137.733 1516.54 Q140.811 1521.12 140.811 1529.87 Q140.811 1538.6 137.733 1543.21 Q134.677 1547.79 128.867 1547.79 Q123.057 1547.79 119.978 1543.21 Q116.923 1538.6 116.923 1529.87 Q116.923 1521.12 119.978 1516.54 Q123.057 1511.93 128.867 1511.93 Z\" fill=\"#000000\" fill-rule=\"evenodd\" fill-opacity=\"1\" /><path clip-path=\"url(#clip630)\" d=\"M 0 0 M145.881 1541.24 L150.765 1541.24 L150.765 1547.12 L145.881 1547.12 L145.881 1541.24 Z\" fill=\"#000000\" fill-rule=\"evenodd\" fill-opacity=\"1\" /><path clip-path=\"url(#clip630)\" d=\"M 0 0 M155.881 1512.56 L174.237 1512.56 L174.237 1516.5 L160.163 1516.5 L160.163 1524.97 Q161.182 1524.62 162.2 1524.46 Q163.219 1524.27 164.237 1524.27 Q170.024 1524.27 173.404 1527.44 Q176.783 1530.62 176.783 1536.03 Q176.783 1541.61 173.311 1544.71 Q169.839 1547.79 163.519 1547.79 Q161.344 1547.79 159.075 1547.42 Q156.83 1547.05 154.422 1546.31 L154.422 1541.61 Q156.506 1542.74 158.728 1543.3 Q160.95 1543.86 163.427 1543.86 Q167.432 1543.86 169.769 1541.75 Q172.107 1539.64 172.107 1536.03 Q172.107 1532.42 169.769 1530.31 Q167.432 1528.21 163.427 1528.21 Q161.552 1528.21 159.677 1528.62 Q157.825 1529.04 155.881 1529.92 L155.881 1512.56 Z\" fill=\"#000000\" fill-rule=\"evenodd\" fill-opacity=\"1\" /><path clip-path=\"url(#clip630)\" d=\"M 0 0 M610.227 1543.18 L617.866 1543.18 L617.866 1516.82 L609.556 1518.49 L609.556 1514.23 L617.82 1512.56 L622.495 1512.56 L622.495 1543.18 L630.134 1543.18 L630.134 1547.12 L610.227 1547.12 L610.227 1543.18 Z\" fill=\"#000000\" fill-rule=\"evenodd\" fill-opacity=\"1\" /><path clip-path=\"url(#clip630)\" d=\"M 0 0 M635.204 1541.24 L640.088 1541.24 L640.088 1547.12 L635.204 1547.12 L635.204 1541.24 Z\" fill=\"#000000\" fill-rule=\"evenodd\" fill-opacity=\"1\" /><path clip-path=\"url(#clip630)\" d=\"M 0 0 M655.157 1515.64 Q651.546 1515.64 649.717 1519.2 Q647.912 1522.75 647.912 1529.87 Q647.912 1536.98 649.717 1540.55 Q651.546 1544.09 655.157 1544.09 Q658.792 1544.09 660.597 1540.55 Q662.426 1536.98 662.426 1529.87 Q662.426 1522.75 660.597 1519.2 Q658.792 1515.64 655.157 1515.64 M655.157 1511.93 Q660.967 1511.93 664.023 1516.54 Q667.102 1521.12 667.102 1529.87 Q667.102 1538.6 664.023 1543.21 Q660.967 1547.79 655.157 1547.79 Q649.347 1547.79 646.268 1543.21 Q643.213 1538.6 643.213 1529.87 Q643.213 1521.12 646.268 1516.54 Q649.347 1511.93 655.157 1511.93 Z\" fill=\"#000000\" fill-rule=\"evenodd\" fill-opacity=\"1\" /><path clip-path=\"url(#clip630)\" d=\"M 0 0 M1102.2 1543.18 L1109.84 1543.18 L1109.84 1516.82 L1101.53 1518.49 L1101.53 1514.23 L1109.79 1512.56 L1114.47 1512.56 L1114.47 1543.18 L1122.11 1543.18 L1122.11 1547.12 L1102.2 1547.12 L1102.2 1543.18 Z\" fill=\"#000000\" fill-rule=\"evenodd\" fill-opacity=\"1\" /><path clip-path=\"url(#clip630)\" d=\"M 0 0 M1127.18 1541.24 L1132.06 1541.24 L1132.06 1547.12 L1127.18 1547.12 L1127.18 1541.24 Z\" fill=\"#000000\" fill-rule=\"evenodd\" fill-opacity=\"1\" /><path clip-path=\"url(#clip630)\" d=\"M 0 0 M1137.18 1512.56 L1155.53 1512.56 L1155.53 1516.5 L1141.46 1516.5 L1141.46 1524.97 Q1142.48 1524.62 1143.5 1524.46 Q1144.51 1524.27 1145.53 1524.27 Q1151.32 1524.27 1154.7 1527.44 Q1158.08 1530.62 1158.08 1536.03 Q1158.08 1541.61 1154.61 1544.71 Q1151.14 1547.79 1144.82 1547.79 Q1142.64 1547.79 1140.37 1547.42 Q1138.13 1547.05 1135.72 1546.31 L1135.72 1541.61 Q1137.8 1542.74 1140.02 1543.3 Q1142.25 1543.86 1144.72 1543.86 Q1148.73 1543.86 1151.07 1541.75 Q1153.4 1539.64 1153.4 1536.03 Q1153.4 1532.42 1151.07 1530.31 Q1148.73 1528.21 1144.72 1528.21 Q1142.85 1528.21 1140.97 1528.62 Q1139.12 1529.04 1137.18 1529.92 L1137.18 1512.56 Z\" fill=\"#000000\" fill-rule=\"evenodd\" fill-opacity=\"1\" /><path clip-path=\"url(#clip630)\" d=\"M 0 0 M1597.45 1543.18 L1613.77 1543.18 L1613.77 1547.12 L1591.82 1547.12 L1591.82 1543.18 Q1594.49 1540.43 1599.07 1535.8 Q1603.68 1531.15 1604.86 1529.81 Q1607.1 1527.28 1607.98 1525.55 Q1608.88 1523.79 1608.88 1522.1 Q1608.88 1519.34 1606.94 1517.61 Q1605.02 1515.87 1601.92 1515.87 Q1599.72 1515.87 1597.26 1516.63 Q1594.83 1517.4 1592.06 1518.95 L1592.06 1514.23 Q1594.88 1513.09 1597.33 1512.51 Q1599.79 1511.93 1601.82 1511.93 Q1607.19 1511.93 1610.39 1514.62 Q1613.58 1517.31 1613.58 1521.8 Q1613.58 1523.93 1612.77 1525.85 Q1611.99 1527.74 1609.88 1530.34 Q1609.3 1531.01 1606.2 1534.23 Q1603.1 1537.42 1597.45 1543.18 Z\" fill=\"#000000\" fill-rule=\"evenodd\" fill-opacity=\"1\" /><path clip-path=\"url(#clip630)\" d=\"M 0 0 M1618.84 1541.24 L1623.72 1541.24 L1623.72 1547.12 L1618.84 1547.12 L1618.84 1541.24 Z\" fill=\"#000000\" fill-rule=\"evenodd\" fill-opacity=\"1\" /><path clip-path=\"url(#clip630)\" d=\"M 0 0 M1638.79 1515.64 Q1635.18 1515.64 1633.35 1519.2 Q1631.55 1522.75 1631.55 1529.87 Q1631.55 1536.98 1633.35 1540.55 Q1635.18 1544.09 1638.79 1544.09 Q1642.43 1544.09 1644.23 1540.55 Q1646.06 1536.98 1646.06 1529.87 Q1646.06 1522.75 1644.23 1519.2 Q1642.43 1515.64 1638.79 1515.64 M1638.79 1511.93 Q1644.6 1511.93 1647.66 1516.54 Q1650.74 1521.12 1650.74 1529.87 Q1650.74 1538.6 1647.66 1543.21 Q1644.6 1547.79 1638.79 1547.79 Q1632.98 1547.79 1629.9 1543.21 Q1626.85 1538.6 1626.85 1529.87 Q1626.85 1521.12 1629.9 1516.54 Q1632.98 1511.93 1638.79 1511.93 Z\" fill=\"#000000\" fill-rule=\"evenodd\" fill-opacity=\"1\" /><path clip-path=\"url(#clip630)\" d=\"M 0 0 M2089.42 1543.18 L2105.74 1543.18 L2105.74 1547.12 L2083.8 1547.12 L2083.8 1543.18 Q2086.46 1540.43 2091.04 1535.8 Q2095.65 1531.15 2096.83 1529.81 Q2099.08 1527.28 2099.96 1525.55 Q2100.86 1523.79 2100.86 1522.1 Q2100.86 1519.34 2098.91 1517.61 Q2096.99 1515.87 2093.89 1515.87 Q2091.69 1515.87 2089.24 1516.63 Q2086.81 1517.4 2084.03 1518.95 L2084.03 1514.23 Q2086.85 1513.09 2089.31 1512.51 Q2091.76 1511.93 2093.8 1511.93 Q2099.17 1511.93 2102.36 1514.62 Q2105.56 1517.31 2105.56 1521.8 Q2105.56 1523.93 2104.75 1525.85 Q2103.96 1527.74 2101.85 1530.34 Q2101.27 1531.01 2098.17 1534.23 Q2095.07 1537.42 2089.42 1543.18 Z\" fill=\"#000000\" fill-rule=\"evenodd\" fill-opacity=\"1\" /><path clip-path=\"url(#clip630)\" d=\"M 0 0 M2110.81 1541.24 L2115.7 1541.24 L2115.7 1547.12 L2110.81 1547.12 L2110.81 1541.24 Z\" fill=\"#000000\" fill-rule=\"evenodd\" fill-opacity=\"1\" /><path clip-path=\"url(#clip630)\" d=\"M 0 0 M2120.81 1512.56 L2139.17 1512.56 L2139.17 1516.5 L2125.09 1516.5 L2125.09 1524.97 Q2126.11 1524.62 2127.13 1524.46 Q2128.15 1524.27 2129.17 1524.27 Q2134.95 1524.27 2138.33 1527.44 Q2141.71 1530.62 2141.71 1536.03 Q2141.71 1541.61 2138.24 1544.71 Q2134.77 1547.79 2128.45 1547.79 Q2126.27 1547.79 2124.01 1547.42 Q2121.76 1547.05 2119.35 1546.31 L2119.35 1541.61 Q2121.44 1542.74 2123.66 1543.3 Q2125.88 1543.86 2128.36 1543.86 Q2132.36 1543.86 2134.7 1541.75 Q2137.04 1539.64 2137.04 1536.03 Q2137.04 1532.42 2134.7 1530.31 Q2132.36 1528.21 2128.36 1528.21 Q2126.48 1528.21 2124.61 1528.62 Q2122.76 1529.04 2120.81 1529.92 L2120.81 1512.56 Z\" fill=\"#000000\" fill-rule=\"evenodd\" fill-opacity=\"1\" /><polyline clip-path=\"url(#clip632)\" style=\"stroke:#000000; stroke-width:2; stroke-opacity:0.1; fill:none\" points=\"\n",
       "  146.853,1486.45 2112.76,1486.45 \n",
       "  \"/>\n",
       "<polyline clip-path=\"url(#clip632)\" style=\"stroke:#000000; stroke-width:2; stroke-opacity:0.1; fill:none\" points=\"\n",
       "  146.853,1126.65 2112.76,1126.65 \n",
       "  \"/>\n",
       "<polyline clip-path=\"url(#clip632)\" style=\"stroke:#000000; stroke-width:2; stroke-opacity:0.1; fill:none\" points=\"\n",
       "  146.853,766.846 2112.76,766.846 \n",
       "  \"/>\n",
       "<polyline clip-path=\"url(#clip632)\" style=\"stroke:#000000; stroke-width:2; stroke-opacity:0.1; fill:none\" points=\"\n",
       "  146.853,407.045 2112.76,407.045 \n",
       "  \"/>\n",
       "<polyline clip-path=\"url(#clip632)\" style=\"stroke:#000000; stroke-width:2; stroke-opacity:0.1; fill:none\" points=\"\n",
       "  146.853,47.2441 2112.76,47.2441 \n",
       "  \"/>\n",
       "<polyline clip-path=\"url(#clip630)\" style=\"stroke:#000000; stroke-width:4; stroke-opacity:1; fill:none\" points=\"\n",
       "  146.853,1486.45 146.853,47.2441 \n",
       "  \"/>\n",
       "<polyline clip-path=\"url(#clip630)\" style=\"stroke:#000000; stroke-width:4; stroke-opacity:1; fill:none\" points=\"\n",
       "  146.853,1486.45 170.444,1486.45 \n",
       "  \"/>\n",
       "<polyline clip-path=\"url(#clip630)\" style=\"stroke:#000000; stroke-width:4; stroke-opacity:1; fill:none\" points=\"\n",
       "  146.853,1126.65 170.444,1126.65 \n",
       "  \"/>\n",
       "<polyline clip-path=\"url(#clip630)\" style=\"stroke:#000000; stroke-width:4; stroke-opacity:1; fill:none\" points=\"\n",
       "  146.853,766.846 170.444,766.846 \n",
       "  \"/>\n",
       "<polyline clip-path=\"url(#clip630)\" style=\"stroke:#000000; stroke-width:4; stroke-opacity:1; fill:none\" points=\"\n",
       "  146.853,407.045 170.444,407.045 \n",
       "  \"/>\n",
       "<polyline clip-path=\"url(#clip630)\" style=\"stroke:#000000; stroke-width:4; stroke-opacity:1; fill:none\" points=\"\n",
       "  146.853,47.2441 170.444,47.2441 \n",
       "  \"/>\n",
       "<path clip-path=\"url(#clip630)\" d=\"M 0 0 M62.9365 1472.25 Q59.3254 1472.25 57.4967 1475.81 Q55.6912 1479.35 55.6912 1486.48 Q55.6912 1493.59 57.4967 1497.15 Q59.3254 1500.7 62.9365 1500.7 Q66.5707 1500.7 68.3763 1497.15 Q70.205 1493.59 70.205 1486.48 Q70.205 1479.35 68.3763 1475.81 Q66.5707 1472.25 62.9365 1472.25 M62.9365 1468.54 Q68.7467 1468.54 71.8022 1473.15 Q74.8809 1477.73 74.8809 1486.48 Q74.8809 1495.21 71.8022 1499.82 Q68.7467 1504.4 62.9365 1504.4 Q57.1264 1504.4 54.0477 1499.82 Q50.9921 1495.21 50.9921 1486.48 Q50.9921 1477.73 54.0477 1473.15 Q57.1264 1468.54 62.9365 1468.54 Z\" fill=\"#000000\" fill-rule=\"evenodd\" fill-opacity=\"1\" /><path clip-path=\"url(#clip630)\" d=\"M 0 0 M79.9503 1497.85 L84.8345 1497.85 L84.8345 1503.73 L79.9503 1503.73 L79.9503 1497.85 Z\" fill=\"#000000\" fill-rule=\"evenodd\" fill-opacity=\"1\" /><path clip-path=\"url(#clip630)\" d=\"M 0 0 M89.9503 1469.17 L108.307 1469.17 L108.307 1473.1 L94.2326 1473.1 L94.2326 1481.58 Q95.2511 1481.23 96.2697 1481.07 Q97.2882 1480.88 98.3067 1480.88 Q104.094 1480.88 107.473 1484.05 Q110.853 1487.22 110.853 1492.64 Q110.853 1498.22 107.381 1501.32 Q103.909 1504.4 97.5891 1504.4 Q95.4132 1504.4 93.1447 1504.03 Q90.8993 1503.66 88.4919 1502.92 L88.4919 1498.22 Q90.5752 1499.35 92.7975 1499.91 Q95.0197 1500.46 97.4965 1500.46 Q101.501 1500.46 103.839 1498.36 Q106.177 1496.25 106.177 1492.64 Q106.177 1489.03 103.839 1486.92 Q101.501 1484.82 97.4965 1484.82 Q95.6215 1484.82 93.7465 1485.23 Q91.8947 1485.65 89.9503 1486.53 L89.9503 1469.17 Z\" fill=\"#000000\" fill-rule=\"evenodd\" fill-opacity=\"1\" /><path clip-path=\"url(#clip630)\" d=\"M 0 0 M53.9782 1139.99 L61.6171 1139.99 L61.6171 1113.63 L53.3069 1115.29 L53.3069 1111.03 L61.5708 1109.37 L66.2467 1109.37 L66.2467 1139.99 L73.8855 1139.99 L73.8855 1143.93 L53.9782 1143.93 L53.9782 1139.99 Z\" fill=\"#000000\" fill-rule=\"evenodd\" fill-opacity=\"1\" /><path clip-path=\"url(#clip630)\" d=\"M 0 0 M78.9549 1138.05 L83.8392 1138.05 L83.8392 1143.93 L78.9549 1143.93 L78.9549 1138.05 Z\" fill=\"#000000\" fill-rule=\"evenodd\" fill-opacity=\"1\" /><path clip-path=\"url(#clip630)\" d=\"M 0 0 M98.9085 1112.45 Q95.2974 1112.45 93.4688 1116.01 Q91.6632 1119.55 91.6632 1126.68 Q91.6632 1133.79 93.4688 1137.35 Q95.2974 1140.89 98.9085 1140.89 Q102.543 1140.89 104.348 1137.35 Q106.177 1133.79 106.177 1126.68 Q106.177 1119.55 104.348 1116.01 Q102.543 1112.45 98.9085 1112.45 M98.9085 1108.74 Q104.719 1108.74 107.774 1113.35 Q110.853 1117.93 110.853 1126.68 Q110.853 1135.41 107.774 1140.01 Q104.719 1144.6 98.9085 1144.6 Q93.0984 1144.6 90.0197 1140.01 Q86.9642 1135.41 86.9642 1126.68 Q86.9642 1117.93 90.0197 1113.35 Q93.0984 1108.74 98.9085 1108.74 Z\" fill=\"#000000\" fill-rule=\"evenodd\" fill-opacity=\"1\" /><path clip-path=\"url(#clip630)\" d=\"M 0 0 M54.9736 780.191 L62.6124 780.191 L62.6124 753.825 L54.3023 755.492 L54.3023 751.233 L62.5661 749.566 L67.242 749.566 L67.242 780.191 L74.8809 780.191 L74.8809 784.126 L54.9736 784.126 L54.9736 780.191 Z\" fill=\"#000000\" fill-rule=\"evenodd\" fill-opacity=\"1\" /><path clip-path=\"url(#clip630)\" d=\"M 0 0 M79.9503 778.246 L84.8345 778.246 L84.8345 784.126 L79.9503 784.126 L79.9503 778.246 Z\" fill=\"#000000\" fill-rule=\"evenodd\" fill-opacity=\"1\" /><path clip-path=\"url(#clip630)\" d=\"M 0 0 M89.9503 749.566 L108.307 749.566 L108.307 753.501 L94.2326 753.501 L94.2326 761.973 Q95.2511 761.626 96.2697 761.464 Q97.2882 761.279 98.3067 761.279 Q104.094 761.279 107.473 764.45 Q110.853 767.621 110.853 773.038 Q110.853 778.617 107.381 781.719 Q103.909 784.797 97.5891 784.797 Q95.4132 784.797 93.1447 784.427 Q90.8993 784.057 88.4919 783.316 L88.4919 778.617 Q90.5752 779.751 92.7975 780.307 Q95.0197 780.862 97.4965 780.862 Q101.501 780.862 103.839 778.756 Q106.177 776.649 106.177 773.038 Q106.177 769.427 103.839 767.321 Q101.501 765.214 97.4965 765.214 Q95.6215 765.214 93.7465 765.631 Q91.8947 766.047 89.9503 766.927 L89.9503 749.566 Z\" fill=\"#000000\" fill-rule=\"evenodd\" fill-opacity=\"1\" /><path clip-path=\"url(#clip630)\" d=\"M 0 0 M57.5662 420.39 L73.8855 420.39 L73.8855 424.325 L51.9412 424.325 L51.9412 420.39 Q54.6032 417.635 59.1865 413.006 Q63.793 408.353 64.9735 407.01 Q67.2189 404.487 68.0985 402.751 Q69.0013 400.992 69.0013 399.302 Q69.0013 396.547 67.0569 394.811 Q65.1356 393.075 62.0337 393.075 Q59.8347 393.075 57.381 393.839 Q54.9504 394.603 52.1727 396.154 L52.1727 391.432 Q54.9967 390.297 57.4504 389.719 Q59.9041 389.14 61.9411 389.14 Q67.3115 389.14 70.5059 391.825 Q73.7003 394.51 73.7003 399.001 Q73.7003 401.131 72.8902 403.052 Q72.1031 404.95 69.9967 407.543 Q69.418 408.214 66.3161 411.432 Q63.2143 414.626 57.5662 420.39 Z\" fill=\"#000000\" fill-rule=\"evenodd\" fill-opacity=\"1\" /><path clip-path=\"url(#clip630)\" d=\"M 0 0 M78.9549 418.445 L83.8392 418.445 L83.8392 424.325 L78.9549 424.325 L78.9549 418.445 Z\" fill=\"#000000\" fill-rule=\"evenodd\" fill-opacity=\"1\" /><path clip-path=\"url(#clip630)\" d=\"M 0 0 M98.9085 392.844 Q95.2974 392.844 93.4688 396.409 Q91.6632 399.95 91.6632 407.08 Q91.6632 414.186 93.4688 417.751 Q95.2974 421.293 98.9085 421.293 Q102.543 421.293 104.348 417.751 Q106.177 414.186 106.177 407.08 Q106.177 399.95 104.348 396.409 Q102.543 392.844 98.9085 392.844 M98.9085 389.14 Q104.719 389.14 107.774 393.746 Q110.853 398.33 110.853 407.08 Q110.853 415.807 107.774 420.413 Q104.719 424.996 98.9085 424.996 Q93.0984 424.996 90.0197 420.413 Q86.9642 415.807 86.9642 407.08 Q86.9642 398.33 90.0197 393.746 Q93.0984 389.14 98.9085 389.14 Z\" fill=\"#000000\" fill-rule=\"evenodd\" fill-opacity=\"1\" /><path clip-path=\"url(#clip630)\" d=\"M 0 0 M58.5615 60.5889 L74.8809 60.5889 L74.8809 64.5241 L52.9366 64.5241 L52.9366 60.5889 Q55.5986 57.8343 60.1819 53.2047 Q64.7883 48.552 65.9689 47.2094 Q68.2143 44.6862 69.0939 42.9501 Q69.9967 41.1909 69.9967 39.5011 Q69.9967 36.7465 68.0522 35.0104 Q66.1309 33.2743 63.0291 33.2743 Q60.83 33.2743 58.3763 34.0381 Q55.9458 34.802 53.168 36.3529 L53.168 31.6308 Q55.9921 30.4965 58.4458 29.9178 Q60.8995 29.3391 62.9365 29.3391 Q68.3068 29.3391 71.5013 32.0243 Q74.6957 34.7094 74.6957 39.2002 Q74.6957 41.3298 73.8855 43.2511 Q73.0985 45.1492 70.992 47.7418 Q70.4133 48.4131 67.3115 51.6306 Q64.2096 54.8251 58.5615 60.5889 Z\" fill=\"#000000\" fill-rule=\"evenodd\" fill-opacity=\"1\" /><path clip-path=\"url(#clip630)\" d=\"M 0 0 M79.9503 58.6445 L84.8345 58.6445 L84.8345 64.5241 L79.9503 64.5241 L79.9503 58.6445 Z\" fill=\"#000000\" fill-rule=\"evenodd\" fill-opacity=\"1\" /><path clip-path=\"url(#clip630)\" d=\"M 0 0 M89.9503 29.9641 L108.307 29.9641 L108.307 33.8993 L94.2326 33.8993 L94.2326 42.3714 Q95.2511 42.0242 96.2697 41.8622 Q97.2882 41.677 98.3067 41.677 Q104.094 41.677 107.473 44.8483 Q110.853 48.0196 110.853 53.4362 Q110.853 59.0149 107.381 62.1167 Q103.909 65.1954 97.5891 65.1954 Q95.4132 65.1954 93.1447 64.825 Q90.8993 64.4547 88.4919 63.7139 L88.4919 59.0149 Q90.5752 60.1491 92.7975 60.7047 Q95.0197 61.2602 97.4965 61.2602 Q101.501 61.2602 103.839 59.1538 Q106.177 57.0473 106.177 53.4362 Q106.177 49.8251 103.839 47.7186 Q101.501 45.6122 97.4965 45.6122 Q95.6215 45.6122 93.7465 46.0288 Q91.8947 46.4455 89.9503 47.3251 L89.9503 29.9641 Z\" fill=\"#000000\" fill-rule=\"evenodd\" fill-opacity=\"1\" /><g clip-path=\"url(#clip632)\">\n",
       "<image width=\"1966\" height=\"1439\" xlink:href=\"data:image/png;base64,\n",
       "iVBORw0KGgoAAAANSUhEUgAAB64AAAWfCAYAAAAbKdjCAAAgAElEQVR4nOzZIRGAQAAAQcC9ogj9\n",
       "s1ADhXw6YG4YdhOcv3Ufx1wAAACA1677rBMAAADg07Y6AAAAAAAAAIB/M64BAAAAAAAASBnXAAAA\n",
       "AAAAAKSMawAAAAAAAABSxjUAAAAAAAAAKeMaAAAAAAAAgJRxDQAAAAAAAEDKuAYAAAAAAAAgZVwD\n",
       "AAAAAAAAkDKuAQAAAAAAAEgZ1wAAAAAAAACkjGsAAAAAAAAAUsY1AAAAAAAAACnjGgAAAAAAAICU\n",
       "cQ0AAAAAAABAyrgGAAAAAAAAIGVcAwAAAAAAAJAyrgEAAAAAAABIGdcAAAAAAAAApIxrAAAAAAAA\n",
       "AFLGNQAAAAAAAAAp4xoAAAAAAACAlHENAAAAAAAAQMq4BgAAAAAAACBlXAMAAAAAAACQMq4BAAAA\n",
       "AAAASBnXAAAAAAAAAKSMawAAAAAAAABSxjUAAAAAAAAAKeMaAAAAAAAAgJRxDQAAAAAAAEDKuAYA\n",
       "AAAAAAAgZVwDAAAAAAAAkDKuAQAAAAAAAEgZ1wAAAAAAAACkjGsAAAAAAAAAUsY1AAAAAAAAACnj\n",
       "GgAAAAAAAICUcQ0AAAAAAABAyrgGAAAAAAAAIGVcAwAAAAAAAJAyrgEAAAAAAABIGdcAAAAAAAAA\n",
       "pIxrAAAAAAAAAFLGNQAAAAAAAAAp4xoAAAAAAACAlHENAAAAAAAAQMq4BgAAAAAAACBlXAMAAAAA\n",
       "AACQMq4BAAAAAAAASBnXAAAAAAAAAKSMawAAAAAAAABSxjUAAAAAAAAAKeMaAAAAAAAAgJRxDQAA\n",
       "AAAAAEDKuAYAAAAAAAAgZVwDAAAAAAAAkDKuAQAAAAAAAEgZ1wAAAAAAAACkjGsAAAAAAAAAUsY1\n",
       "AAAAAAAAACnjGgAAAAAAAICUcQ0AAAAAAABAyrgGAAAAAAAAIGVcAwAAAAAAAJAyrgEAAAAAAABI\n",
       "GdcAAAAAAAAApIxrAAAAAAAAAFLGNQAAAAAAAAAp4xoAAAAAAACAlHENAAAAAAAAQMq4BgAAAAAA\n",
       "ACBlXAMAAAAAAACQMq4BAAAAAAAASBnXAAAAAAAAAKSMawAAAAAAAABSxjUAAAAAAAAAKeMaAAAA\n",
       "AAAAgJRxDQAAAAAAAEDKuAYAAAAAAAAgZVwDAAAAAAAAkDKuAQAAAAAAAEgZ1wAAAAAAAACkjGsA\n",
       "AAAAAAAAUsY1AAAAAAAAACnjGgAAAAAAAICUcQ0AAAAAAABAyrgGAAAAAAAAIGVcAwAAAAAAAJAy\n",
       "rgEAAAAAAABIGdcAAAAAAAAApIxrAAAAAAAAAFLGNQAAAAAAAAAp4xoAAAAAAACAlHENAAAAAAAA\n",
       "QMq4BgAAAAAAACBlXAMAAAAAAACQMq4BAAAAAAAASBnXAAAAAAAAAKSMawAAAAAAAABSxjUAAAAA\n",
       "AAAAKeMaAAAAAAAAgJRxDQAAAAAAAEDKuAYAAAAAAAAgZVwDAAAAAAAAkDKuAQAAAAAAAEgZ1wAA\n",
       "AAAAAACkjGsAAAAAAAAAUsY1AAAAAAAAACnjGgAAAAAAAICUcQ0AAAAAAABAyrgGAAAAAAAAIGVc\n",
       "AwAAAAAAAJAyrgEAAAAAAABIGdcAAAAAAAAApIxrAAAAAAAAAFLGNQAAAAAAAAAp4xoAAAAAAACA\n",
       "lHENAAAAAAAAQMq4BgAAAAAAACBlXAMAAAAAAACQMq4BAAAAAAAASBnXAAAAAAAAAKSMawAAAAAA\n",
       "AABSxjUAAAAAAAAAKeMaAAAAAAAAgJRxDQAAAAAAAEDKuAYAAAAAAAAgZVwDAAAAAAAAkDKuAQAA\n",
       "AAAAAEgZ1wAAAAAAAACkjGsAAAAAAAAAUsY1AAAAAAAAACnjGgAAAAAAAICUcQ0AAAAAAABAyrgG\n",
       "AAAAAAAAIGVcAwAAAAAAAJAyrgEAAAAAAABIGdcAAAAAAAAApIxrAAAAAAAAAFLGNQAAAAAAAAAp\n",
       "4xoAAAAAAACAlHENAAAAAAAAQMq4BgAAAAAAACBlXAMAAAAAAACQMq4BAAAAAAAASBnXAAAAAAAA\n",
       "AKSMawAAAAAAAABSxjUAAAAAAAAAKeMaAAAAAAAAgJRxDQAAAAAAAEDKuAYAAAAAAAAgZVwDAAAA\n",
       "AAAAkDKuAQAAAAAAAEgZ1wAAAAAAAACkjGsAAAAAAAAAUsY1AAAAAAAAACnjGgAAAAAAAICUcQ0A\n",
       "AAAAAABAyrgGAAAAAAAAIGVcAwAAAAAAAJAyrgEAAAAAAABIGdcAAAAAAAAApIxrAAAAAAAAAFLG\n",
       "NQAAAAAAAAAp4xoAAAAAAACAlHENAAAAAAAAQMq4BgAAAAAAACBlXAMAAAAAAACQMq4BAAAAAAAA\n",
       "SBnXAAAAAAAAAKSMawAAAAAAAABSxjUAAAAAAAAAKeMaAAAAAAAAgJRxDQAAAAAAAEDKuAYAAAAA\n",
       "AAAgZVwDAAAAAAAAkDKuAQAAAAAAAEgZ1wAAAAAAAACkjGsAAAAAAAAAUsY1AAAAAAAAACnjGgAA\n",
       "AAAAAICUcQ0AAAAAAABAyrgGAAAAAAAAIGVcAwAAAAAAAJAyrgEAAAAAAABIGdcAAAAAAAAApIxr\n",
       "AAAAAAAAAFLGNQAAAAAAAAAp4xoAAAAAAACAlHENAAAAAAAAQMq4BgAAAAAAACBlXAMAAAAAAACQ\n",
       "Mq4BAAAAAAAASBnXAAAAAAAAAKSMawAAAAAAAABSxjUAAAAAAAAAKeMaAAAAAAAAgJRxDQAAAAAA\n",
       "AEDKuAYAAAAAAAAgZVwDAAAAAAAAkDKuAQAAAAAAAEgZ1wAAAAAAAACkjGsAAAAAAAAAUsY1AAAA\n",
       "AAAAACnjGgAAAAAAAICUcQ0AAAAAAABAyrgGAAAAAAAAIGVcAwAAAAAAAJAyrgEAAAAAAABIGdcA\n",
       "AAAAAAAApIxrAAAAAAAAAFLGNQAAAAAAAAAp4xoAAAAAAACAlHENAAAAAAAAQMq4BgAAAAAAACBl\n",
       "XAMAAAAAAACQMq4BAAAAAAAASBnXAAAAAAAAAKSMawAAAAAAAABSxjUAAAAAAAAAKeMaAAAAAAAA\n",
       "gJRxDQAAAAAAAEDKuAYAAAAAAAAgZVwDAAAAAAAAkDKuAQAAAAAAAEgZ1wAAAAAAAACkjGsAAAAA\n",
       "AAAAUsY1AAAAAAAAACnjGgAAAAAAAICUcQ0AAAAAAABAyrgGAAAAAAAAIGVcAwAAAAAAAJAyrgEA\n",
       "AAAAAABIGdcAAAAAAAAApIxrAAAAAAAAAFLGNQAAAAAAAAAp4xoAAAAAAACAlHENAAAAAAAAQMq4\n",
       "BgAAAAAAACBlXAMAAAAAAACQMq4BAAAAAAAASBnXAAAAAAAAAKSMawAAAAAAAABSxjUAAAAAAAAA\n",
       "KeMaAAAAAAAAgJRxDQAAAAAAAEDKuAYAAAAAAAAgZVwDAAAAAAAAkDKuAQAAAAAAAEgZ1wAAAAAA\n",
       "AACkjGsAAAAAAAAAUsY1AAAAAAAAACnjGgAAAAAAAICUcQ0AAAAAAABAyrgGAAAAAAAAIGVcAwAA\n",
       "AAAAAJAyrgEAAAAAAABIGdcAAAAAAAAApIxrAAAAAAAAAFLGNQAAAAAAAAAp4xoAAAAAAACAlHEN\n",
       "AAAAAAAAQMq4BgAAAAAAACBlXAMAAAAAAACQMq4BAAAAAAAASBnXAAAAAAAAAKSMawAAAAAAAABS\n",
       "xjUAAAAAAAAAKeMaAAAAAAAAgJRxDQAAAAAAAEDKuAYAAAAAAAAgZVwDAAAAAAAAkDKuAQAAAAAA\n",
       "AEgZ1wAAAAAAAACkjGsAAAAAAAAAUsY1AAAAAAAAACnjGgAAAAAAAICUcQ0AAAAAAABAyrgGAAAA\n",
       "AAAAIGVcAwAAAAAAAJAyrgEAAAAAAABIGdcAAAAAAAAApIxrAAAAAAAAAFLGNQAAAAAAAAAp4xoA\n",
       "AAAAAACAlHENAAAAAAAAQMq4BgAAAAAAACBlXAMAAAAAAACQMq4BAAAAAAAASBnXAAAAAAAAAKSM\n",
       "awAAAAAAAABSxjUAAAAAAAAAKeMaAAAAAAAAgJRxDQAAAAAAAEDKuAYAAAAAAAAgZVwDAAAAAAAA\n",
       "kDKuAQAAAAAAAEgZ1wAAAAAAAACkjGsAAAAAAAAAUsY1AAAAAAAAACnjGgAAAAAAAICUcQ0AAAAA\n",
       "AABAyrgGAAAAAAAAIGVcAwAAAAAAAJAyrgEAAAAAAABIGdcAAAAAAAAApIxrAAAAAAAAAFLGNQAA\n",
       "AAAAAAAp4xoAAAAAAACAlHENAAAAAAAAQMq4BgAAAAAAACBlXAMAAAAAAACQMq4BAAAAAAAASBnX\n",
       "AAAAAAAAAKSMawAAAAAAAABSxjUAAAAAAAAAKeMaAAAAAAAAgJRxDQAAAAAAAEDKuAYAAAAAAAAg\n",
       "ZVwDAAAAAAAAkDKuAQAAAAAAAEgZ1wAAAAAAAACkjGsAAAAAAAAAUsY1AAAAAAAAACnjGgAAAAAA\n",
       "AICUcQ0AAAAAAABAyrgGAAAAAAAAIGVcAwAAAAAAAJAyrgEAAAAAAABIGdcAAAAAAAAApIxrAAAA\n",
       "AAAAAFLGNQAAAAAAAAAp4xoAAAAAAACAlHENAAAAAAAAQMq4BgAAAAAAACBlXAMAAAAAAACQMq4B\n",
       "AAAAAAAASBnXAAAAAAAAAKSMawAAAAAAAABSxjUAAAAAAAAAKeMaAAAAAAAAgJRxDQAAAAAAAEDK\n",
       "uAYAAAAAAAAgZVwDAAAAAAAAkDKuAQAAAAAAAEgZ1wAAAAAAAACkjGsAAAAAAAAAUsY1AAAAAAAA\n",
       "ACnjGgAAAAAAAICUcQ0AAAAAAABAyrgGAAAAAAAAIGVcAwAAAAAAAJAyrgEAAAAAAABIGdcAAAAA\n",
       "AAAApIxrAAAAAAAAAFLGNQAAAAAAAAAp4xoAAAAAAACAlHENAAAAAAAAQMq4BgAAAAAAACBlXAMA\n",
       "AAAAAACQMq4BAAAAAAAASBnXAAAAAAAAAKSMawAAAAAAAABSxjUAAAAAAAAAKeMaAAAAAAAAgJRx\n",
       "DQAAAAAAAEDKuAYAAAAAAAAgZVwDAAAAAAAAkDKuAQAAAAAAAEgZ1wAAAAAAAACkjGsAAAAAAAAA\n",
       "UsY1AAAAAAAAACnjGgAAAAAAAICUcQ0AAAAAAABAyrgGAAAAAAAAIGVcAwAAAAAAAJAyrgEAAAAA\n",
       "AABIGdcAAAAAAAAApIxrAAAAAAAAAFLGNQAAAAAAAAAp4xoAAAAAAACAlHENAAAAAAAAQMq4BgAA\n",
       "AAAAACBlXAMAAAAAAACQMq4BAAAAAAAASBnXAAAAAAAAAKSMawAAAAAAAABSxjUAAAAAAAAAKeMa\n",
       "AAAAAAAAgJRxDQAAAAAAAEDKuAYAAAAAAAAgZVwDAAAAAAAAkDKuAQAAAAAAAEgZ1wAAAAAAAACk\n",
       "jGsAAAAAAAAAUsY1AAAAAAAAACnjGgAAAAAAAICUcQ0AAAAAAABAyrgGAAAAAAAAIGVcAwAAAAAA\n",
       "AJAyrgEAAAAAAABIGdcAAAAAAAAApIxrAAAAAAAAAFLGNQAAAAAAAAAp4xoAAAAAAACAlHENAAAA\n",
       "AAAAQMq4BgAAAAAAACBlXAMAAAAAAACQMq4BAAAAAAAASBnXAAAAAAAAAKSMawAAAAAAAABSxjUA\n",
       "AAAAAAAAKeMaAAAAAAAAgJRxDQAAAAAAAEDKuAYAAAAAAAAgZVwDAAAAAAAAkDKuAQAAAAAAAEgZ\n",
       "1wAAAAAAAACkjGsAAAAAAAAAUsY1AAAAAAAAACnjGgAAAAAAAICUcQ0AAAAAAABAyrgGAAAAAAAA\n",
       "IGVcAwAAAAAAAJAyrgEAAAAAAABIGdcAAAAAAAAApIxrAAAAAAAAAFLGNQAAAAAAAAAp4xoAAAAA\n",
       "AACAlHENAAAAAAAAQMq4BgAAAAAAACBlXAMAAAAAAACQMq4BAAAAAAAASBnXAAAAAAAAAKSMawAA\n",
       "AAAAAABSxjUAAAAAAAAAKeMaAAAAAAAAgJRxDQAAAAAAAEDKuAYAAAAAAAAgZVwDAAAAAAAAkDKu\n",
       "AQAAAAAAAEgZ1wAAAAAAAACkjGsAAAAAAAAAUsY1AAAAAAAAACnjGgAAAAAAAICUcQ0AAAAAAABA\n",
       "yrgGAAAAAAAAIGVcAwAAAAAAAJAyrgEAAAAAAABIGdcAAAAAAAAApIxrAAAAAAAAAFLGNQAAAAAA\n",
       "AAAp4xoAAAAAAACAlHENAAAAAAAAQMq4BgAAAAAAACBlXAMAAAAAAACQMq4BAAAAAAAASBnXAAAA\n",
       "AAAAAKSMawAAAAAAAABSxjUAAAAAAAAAKeMaAAAAAAAAgJRxDQAAAAAAAEDKuAYAAAAAAAAgZVwD\n",
       "AAAAAAAAkDKuAQAAAAAAAEgZ1wAAAAAAAACkjGsAAAAAAAAAUsY1AAAAAAAAACnjGgAAAAAAAICU\n",
       "cQ0AAAAAAABAyrgGAAAAAAAAIGVcAwAAAAAAAJAyrgEAAAAAAABIGdcAAAAAAAAApIxrAAAAAAAA\n",
       "AFLGNQAAAAAAAAAp4xoAAAAAAACAlHENAAAAAAAAQMq4BgAAAAAAACBlXAMAAAAAAACQMq4BAAAA\n",
       "AAAASBnXAAAAAAAAAKSMawAAAAAAAABSxjUAAAAAAAAAKeMaAAAAAAAAgJRxDQAAAAAAAEDKuAYA\n",
       "AAAAAAAgZVwDAAAAAAAAkDKuAQAAAAAAAEgZ1wAAAAAAAACkjGsAAAAAAAAAUsY1AAAAAAAAACnj\n",
       "GgAAAAAAAICUcQ0AAAAAAABAyrgGAAAAAAAAIGVcAwAAAAAAAJAyrgEAAAAAAABIGdcAAAAAAAAA\n",
       "pIxrAAAAAAAAAFLGNQAAAAAAAAAp4xoAAAAAAACAlHENAAAAAAAAQMq4BgAAAAAAACBlXAMAAAAA\n",
       "AACQMq4BAAAAAAAASBnXAAAAAAAAAKSMawAAAAAAAABSxjUAAAAAAAAAKeMaAAAAAAAAgJRxDQAA\n",
       "AAAAAEDKuAYAAAAAAAAgZVwDAAAAAAAAkDKuAQAAAAAAAEgZ1wAAAAAAAACkjGsAAAAAAAAAUsY1\n",
       "AAAAAAAAACnjGgAAAAAAAICUcQ0AAAAAAABAyrgGAAAAAAAAIGVcAwAAAAAAAJAyrgEAAAAAAABI\n",
       "GdcAAAAAAAAApIxrAAAAAAAAAFLGNQAAAAAAAAAp4xoAAAAAAACAlHENAAAAAAAAQMq4Bh727agE\n",
       "YBgKgiAxXyWRUlmliYzlwYyC+18OAAAAAAAAUsI1AAAAAAAAACnhGgAAAAAAAICUcA0AAAAAAABA\n",
       "SrgGAAAAAAAAICVcAwAAAAAAAJASrgEAAAAAAABICdcAAAAAAAAApIRrAAAAAAAAAFLCNQAAAAAA\n",
       "AAAp4RoAAAAAAACAlHANAAAAAAAAQEq4BgAAAAAAACAlXAMAAAAAAACQEq4BAAAAAAAASAnXAAAA\n",
       "AAAAAKSEawAAAAAAAABSwjUAAAAAAAAAKeEaAAAAAAAAgJRwDQAAAAAAAEBKuAYAAAAAAAAgJVwD\n",
       "AAAAAAAAkBKuAQAAAAAAAEgJ1wAAAAAAAACkhGsAAAAAAAAAUsI1AAAAAAAAACnhGgAAAAAAAICU\n",
       "cA0AAAAAAABASrgGAAAAAAAAICVcAwAAAAAAAJASrgEAAAAAAABICdcAAAAAAAAApIRrAAAAAAAA\n",
       "AFLCNQAAAAAAAAAp4RoAAAAAAACAlHANAAAAAAAAQEq4BgAAAAAAACAlXAMAAAAAAACQEq4BAAAA\n",
       "AAAASAnXAAAAAAAAAKSEawAAAAAAAABSwjUAAAAAAAAAKeEaAAAAAAAAgJRwDQAAAAAAAEBKuAYA\n",
       "AAAAAAAgJVwDAAAAAAAAkBKuAQAAAAAAAEgJ1wAAAAAAAACkhGsAAAAAAAAAUsI1AAAAAAAAACnh\n",
       "GgAAAAAAAICUcA0AAAAAAABASrgGAAAAAAAAICVcAwAAAAAAAJASrgEAAAAAAABICdcAAAAAAAAA\n",
       "pIRrAAAAAAAAAFLCNQAAAAAAAAAp4RoAAAAAAACAlHANAAAAAAAAQEq4BgAAAAAAACAlXAMAAAAA\n",
       "AACQEq4BAAAAAAAASAnXAAAAAAAAAKSEawAAAAAAAABSwjUAAAAAAAAAKeEaAAAAAAAAgJRwDQAA\n",
       "AAAAAEBKuAYAAAAAAAAgJVwDAAAAAAAAkBKuAQAAAAAAAEgJ1wAAAAAAAACkhGsAAAAAAAAAUsI1\n",
       "AAAAAAAAACnhGgAAAAAAAICUcA0AAAAAAABASrgGAAAAAAAAICVcAwAAAAAAAJASrgEAAAAAAABI\n",
       "CdcAAAAAAAAApIRrAAAAAAAAAFLCNQAAAAAAAAAp4RoAAAAAAACAlHANAAAAAAAAQEq4BgAAAAAA\n",
       "ACAlXAMAAAAAAACQEq4BAAAAAAAASAnXAAAAAAAAAKSEawAAAAAAAABSwjUAAAAAAAAAKeEaAAAA\n",
       "AAAAgJRwDQAAAAAAAEBKuAYAAAAAAAAgJVwDAAAAAAAAkBKuAQAAAAAAAEgJ1wAAAAAAAACkhGsA\n",
       "AAAAAAAAUsI1AAAAAAAAACnhGgAAAAAAAICUcA0AAAAAAABASrgGAAAAAAAAICVcAwAAAAAAAJAS\n",
       "rgEAAAAAAABICdcAAAAAAAAApIRrAAAAAAAAAFLCNQAAAAAAAAAp4RoAAAAAAACAlHANAAAAAAAA\n",
       "QEq4BgAAAAAAACAlXAMAAAAAAACQEq4BAAAAAAAASAnXAAAAAAAAAKSEawAAAAAAAABSwjUAAAAA\n",
       "AAAAKeEaAAAAAAAAgJRwDQAAAAAAAEBKuAYAAAAAAAAgJVwDAAAAAAAAkBKuAQAAAAAAAEgJ1wAA\n",
       "AAAAAACkhGsAAAAAAAAAUsI1AAAAAAAAACnhGgAAAAAAAICUcA0AAAAAAABASrgGAAAAAAAAICVc\n",
       "AwAAAAAAAJASrgEAAAAAAABICdcAAAAAAAAApIRrAAAAAAAAAFLCNQAAAAAAAAAp4RoAAAAAAACA\n",
       "lHANAAAAAAAAQEq4BgAAAAAAACAlXAMAAAAAAACQEq4BAAAAAAAASAnXAAAAAAAAAKSEawAAAAAA\n",
       "AABSwjUAAAAAAAAAKeEaAAAAAAAAgJRwDQAAAAAAAEBKuAYAAAAAAAAgJVwDAAAAAAAAkBKuAQAA\n",
       "AAAAAEgJ1wAAAAAAAACkhGsAAAAAAAAAUsI1AAAAAAAAACnhGgAAAAAAAICUcA0AAAAAAABASrgG\n",
       "AAAAAAAAICVcAwAAAAAAAJASrgEAAAAAAABICdcAAAAAAAAApIRrAAAAAAAAAFLCNQAAAAAAAAAp\n",
       "4RoAAAAAAACAlHANAAAAAAAAQEq4BgAAAAAAACAlXAMAAAAAAACQEq4BAAAAAAAASAnXAAAAAAAA\n",
       "AKSEawAAAAAAAABSwjUAAAAAAAAAKeEaAAAAAAAAgJRwDQAAAAAAAEBKuAYAAAAAAAAgJVwDAAAA\n",
       "AAAAkBKuAQAAAAAAAEgJ1wAAAAAAAACkhGsAAAAAAAAAUsI1AAAAAAAAACnhGgAAAAAAAICUcA0A\n",
       "AAAAAABASrgGAAAAAAAAICVcAwAAAAAAAJASrgEAAAAAAABICdcAAAAAAAAApIRrAAAAAAAAAFLC\n",
       "NQAAAAAAAAAp4RoAAAAAAACAlHANAAAAAAAAQEq4BgAAAAAAACAlXAMAAAAAAACQEq4BAAAAAAAA\n",
       "SAnXAAAAAAAAAKSEawAAAAAAAABSwjUAAAAAAAAAKeEaAAAAAAAAgJRwDQAAAAAAAEBKuAYAAAAA\n",
       "AAAgJVwDAAAAAAAAkBKuAQAAAAAAAEgJ1wAAAAAAAACk1nf2qUcAAADAZP/71BMAAABgNI9rAAAA\n",
       "AAAAAFLCNQAAAAAAAAAp4RoAAAAAAACAlHANAAAAAAAAQEq4BgAAAAAAACAlXAMAAAAAAACQEq4B\n",
       "AAAAAAAASAnXAAAAAAAAAKSEawAAAAAAAABSwjUAAAAAAAAAKeEaAAAAAAAAgJRwDQAAAAAAAEBK\n",
       "uAYAAAAAAAAgJVwDAAAAAAAAkBKuAQAAAAAAAEgJ1wAAAAAAAACkhGsAAAAAAAAAUsI1AAAAAAAA\n",
       "ACnhGgAAAAAAAICUcA0AAAAAAABASrgGAAAAAAAAICVcAwAAAAAAAJASrgEAAAAAAABICdcAAAAA\n",
       "AAAApIRrAAAAAAAAAFLCNQAAAAAAAAAp4RoAAAAAAACAlHANAAAAAAAAQEq4BgAAAAAAACAlXAMA\n",
       "AAAAAACQEq4BAAAAAAAASAnXAAAAAAAAAKSEawAAAAAAAABSwjUAAAAAAAAAKeEaAAAAAAAAgJRw\n",
       "DQAAAAAAAEBKuAYAAAAAAAAgJVwDAAAAAAAAkBKuAQAAAAAAAEgJ1wAAAAAAAACkhGsAAAAAAAAA\n",
       "UsI1AAAAAAAAACnhGgAAAAAAAICUcA0AAAAAAABASrgGAAAAAAAAICVcAwAAAAAAAJASrgEAAAAA\n",
       "AABICdcAAAAAAAAApIRrAAAAAAAAAFLCNQAAAAAAAAAp4RoAAAAAAACAlHANAAAAAAAAQEq4BgAA\n",
       "AAAAACAlXAMAAAAAAACQEq4BAAAAAAAASAnXAAAAAAAAAKSEawAAAAAAAABSwjUAAAAAAAAAKeEa\n",
       "AAAAAAAAgJRwDQAAAAAAAEBKuAYAAAAAAAAgJVwDAAAAAAAAkBKuAQAAAAAAAEgJ1wAAAAAAAACk\n",
       "hGsAAAAAAAAAUsI1AAAAAAAAACnhGgAAAAAAAICUcA0AAAAAAABASrgGAAAAAAAAICVcAwAAAAAA\n",
       "AJASrgEAAAAAAABICdcAAAAAAAAApIRrAAAAAAAAAFLCNQAAAAAAAAAp4RoAAAAAAACAlHANAAAA\n",
       "AAAAQEq4BgAAAAAAACAlXAMAAAAAAACQEq4BAAAAAAAASAnXAAAAAAAAAKSEawAAAAAAAABSwjUA\n",
       "AAAAAAAAKeEaAAAAAAAAgJRwDQAAAAAAAEBKuAYAAAAAAAAgJVwDAAAAAAAAkBKuAQAAAAAAAEgJ\n",
       "1wAAAAAAAACkhGsAAAAAAAAAUsI1AAAAAAAAACnhGgAAAAAAAICUcA0AAAAAAABASrgGAAAAAAAA\n",
       "ICVcAwAAAAAAAJASrgEAAAAAAABICdcAAAAAAAAApIRrAAAAAAAAAFLCNQAAAAAAAAAp4RoAAAAA\n",
       "AACAlHANAAAAAAAAQEq4BgAAAAAAACAlXBQhEusAABewSURBVAMAAAAAAACQEq4BAAAAAAAASAnX\n",
       "AAAAAAAAAKSEawAAAAAAAABSwjUAAAAAAAAAKeEaAAAAAAAAgJRwDQAAAAAAAEBKuAYAAAAAAAAg\n",
       "JVwDAAAAAAAAkBKuAQAAAAAAAEgJ1wAAAAAAAACkhGsAAAAAAAAAUsI1AAAAAAAAACnhGgAAAAAA\n",
       "AICUcA0AAAAAAABASrgGAAAAAAAAICVcAwAAAAAAAJASrgEAAAAAAABICdcAAAAAAAAApIRrAAAA\n",
       "AAAAAFLCNQAAAAAAAAAp4RoAAAAAAACAlHANAAAAAAAAQEq4BgAAAAAAACAlXAMAAAAAAACQEq4B\n",
       "AAAAAAAASAnXAAAAAAAAAKSEawAAAAAAAABSwjUAAAAAAAAAKeEaAAAAAAAAgJRwDQAAAAAAAEBK\n",
       "uAYAAAAAAAAgJVwDAAAAAAAAkBKuAQAAAAAAAEgJ1wAAAAAAAACkhGsAAAAAAAAAUsI1AAAAAAAA\n",
       "ACnhGgAAAAAAAICUcA0AAAAAAABASrgGAAAAAAAAICVcAwAAAAAAAJASrgEAAAAAAABICdcAAAAA\n",
       "AAAApIRrAAAAAAAAAFLCNQAAAAAAAAAp4RoAAAAAAACAlHANAAAAAAAAQEq4BgAAAAAAACAlXAMA\n",
       "AAAAAACQEq4BAAAAAAAASAnXAAAAAAAAAKSEawAAAAAAAABSwjUAAAAAAAAAKeEaAAAAAAAAgJRw\n",
       "DQAAAAAAAEBKuAYAAAAAAAAgJVwDAAAAAAAAkBKuAQAAAAAAAEgJ1wAAAAAAAACkhGsAAAAAAAAA\n",
       "UsI1AAAAAAAAACnhGgAAAAAAAICUcA0AAAAAAABASrgGAAAAAAAAICVcAwAAAAAAAJASrgEAAAAA\n",
       "AABICdcAAAAAAAAApIRrAAAAAAAAAFLCNQAAAAAAAAAp4RoAAAAAAACAlHANAAAAAAAAQEq4BgAA\n",
       "AAAAACAlXAMAAAAAAACQEq4BAAAAAAAASAnXAAAAAAAAAKSEawAAAAAAAABSwjUAAAAAAAAAKeEa\n",
       "AAAAAAAAgJRwDQAAAAAAAEBKuAYAAAAAAAAgJVwDAAAAAAAAkBKuAQAAAAAAAEgJ1wAAAAAAAACk\n",
       "hGsAAAAAAAAAUsI1AAAAAAAAACnhGgAAAAAAAICUcA0AAAAAAABASrgGAAAAAAAAICVcAwAAAAAA\n",
       "AJASrgEAAAAAAABICdcAAAAAAAAApIRrAAAAAAAAAFLCNQAAAAAAAAAp4RoAAAAAAACAlHANAAAA\n",
       "AAAAQEq4BgAAAAAAACAlXAMAAAAAAACQEq4BAAAAAAAASAnXAAAAAAAAAKSEawAAAAAAAABSwjUA\n",
       "AAAAAAAAKeEaAAAAAAAAgJRwDQAAAAAAAEBKuAYAAAAAAAAgJVwDAAAAAAAAkBKuAQAAAAAAAEgJ\n",
       "1wAAAAAAAACkhGsAAAAAAAAAUsI1AAAAAAAAACnhGgAAAAAAAICUcA0AAAAAAABASrgGAAAAAAAA\n",
       "ICVcAwAAAAAAAJASrgEAAAAAAABICdcAAAAAAAAApIRrAAAAAAAAAFLCNQAAAAAAAAAp4RoAAAAA\n",
       "AACAlHANAAAAAAAAQEq4BgAAAAAAACAlXAMAAAAAAACQEq4BAAAAAAAASAnXAAAAAAAAAKSEawAA\n",
       "AAAAAABSwjUAAAAAAAAAKeEaAAAAAAAAgJRwDQAAAAAAAEBKuAYAAAAAAAAgJVwDAAAAAAAAkBKu\n",
       "AQAAAAAAAEgJ1wAAAAAAAACkhGsAAAAAAAAAUsI1AAAAAAAAACnhGgAAAAAAAICUcA0AAAAAAABA\n",
       "SrgGAAAAAAAAICVcAwAAAAAAAJASrgEAAAAAAABICdcAAAAAAAAApIRrAAAAAAAAAFLCNQAAAAAA\n",
       "AAAp4RoAAAAAAACAlHANAAAAAAAAQEq4BgAAAAAAACAlXAMAAAAAAACQEq4BAAAAAAAASAnXAAAA\n",
       "AAAAAKSEawAAAAAAAABSwjUAAAAAAAAAKeEaAAAAAAAAgJRwDQAAAAAAAEBKuAYAAAAAAAAgJVwD\n",
       "AAAAAAAAkBKuAQAAAAAAAEgJ1wAAAAAAAACkhGsAAAAAAAAAUsI1AAAAAAAAACnhGgAAAAAAAICU\n",
       "cA0AAAAAAABASrgGAAAAAAAAICVcAwAAAAAAAJASrgEAAAAAAABICdcAAAAAAAAApIRrAAAAAAAA\n",
       "AFLCNQAAAAAAAAAp4RoAAAAAAACAlHANAAAAAAAAQEq4BgAAAAAAACAlXAMAAAAAAACQEq4BAAAA\n",
       "AAAASAnXAAAAAAAAAKSEawAAAAAAAABSwjUAAAAAAAAAKeEaAAAAAAAAgJRwDQAAAAAAAEBKuAYA\n",
       "AAAAAAAgJVwDAAAAAAAAkBKuAQAAAAAAAEgJ1wAAAAAAAACkhGsAAAAAAAAAUsI1AAAAAAAAACnh\n",
       "GgAAAAAAAICUcA0AAAAAAABASrgGAAAAAAAAICVcAwAAAAAAAJASrgEAAAAAAABICdcAAAAAAAAA\n",
       "pIRrAAAAAAAAAFLCNQAAAAAAAAAp4RoAAAAAAACAlHANAAAAAAAAQEq4BgAAAAAAACAlXAMAAAAA\n",
       "AACQEq4BAAAAAAAASAnXAAAAAAAAAKSEawAAAAAAAABSwjUAAAAAAAAAKeEaAAAAAAAAgJRwDQAA\n",
       "AAAAAEBKuAYAAAAAAAAgJVwDAAAAAAAAkBKuAQAAAAAAAEgJ1wAAAAAAAACkhGsAAAAAAAAAUsI1\n",
       "AAAAAAAAACnhGgAAAAAAAICUcA0AAAAAAABASrgGAAAAAAAAICVcAwAAAAAAAJASrgEAAAAAAABI\n",
       "CdcAAAAAAAAApIRrAAAAAAAAAFLCNQAAAAAAAAAp4RoAAAAAAACAlHANAAAAAAAAQEq4BgAAAAAA\n",
       "ACAlXAMAAAAAAACQEq4BAAAAAAAASAnXAAAAAAAAAKSEawAAAAAAAABSwjUAAAAAAAAAKeEaAAAA\n",
       "AAAAgJRwDQAAAAAAAEBKuAYAAAAAAAAgJVwDAAAAAAAAkBKuAQAAAAAAAEgJ1wAAAAAAAACkhGsA\n",
       "AAAAAAAAUsI1AAAAAAAAACnhGgAAAAAAAICUcA0AAAAAAABASrgGAAAAAAAAICVcAwAAAAAAAJAS\n",
       "rgEAAAAAAABICdcAANz27FgAAAAAYJC/9TD2lEYAAAAAACtxDQAAAAAAAMBKXAMAAAAAAACwEtcA\n",
       "AAAAAAAArMQ1AAAAAAAAACtxDQAAAAAAAMBKXAMAAAAAAACwEtcAAAAAAAAArMQ1AAAAAAAAACtx\n",
       "DQAAAAAAAMBKXAMAAAAAAACwEtcAAAAAAAAArMQ1AAAAAAAAACtxDQAAAAAAAMBKXAMAAAAAAACw\n",
       "EtcAAAAAAAAArMQ1AAAAAAAAACtxDQAAAAAAAMBKXAMAAAAAAACwEtcAAAAAAAAArMQ1AAAAAAAA\n",
       "ACtxDQAAAAAAAMBKXAMAAAAAAACwEtcAAAAAAAAArMQ1AAAAAAAAACtxDQAAAAAAAMBKXAMAAAAA\n",
       "AACwEtcAAAAAAAAArMQ1AAAAAAAAACtxDQAAAAAAAMBKXAMAAAAAAACwEtcAAAAAAAAArMQ1AAAA\n",
       "AAAAACtxDQAAAAAAAMBKXAMAAAAAAACwEtcAAAAAAAAArMQ1AAAAAAAAACtxDQAAAAAAAMBKXAMA\n",
       "AAAAAACwEtcAAAAAAAAArMQ1AAAAAAAAACtxDQAAAAAAAMBKXAMAAAAAAACwEtcAAAAAAAAArMQ1\n",
       "AAAAAAAAACtxDQAAAAAAAMBKXAMAAAAAAACwEtcAAAAAAAAArMQ1AAAAAAAAACtxDQAAAAAAAMBK\n",
       "XAMAAAAAAACwEtcAAAAAAAAArMQ1AAAAAAAAACtxDQAAAAAAAMBKXAMAAAAAAACwEtcAAAAAAAAA\n",
       "rMQ1AAAAAAAAACtxDQAAAAAAAMBKXAMAAAAAAACwEtcAAAAAAAAArMQ1AAAAAAAAACtxDQAAAAAA\n",
       "AMBKXAMAAAAAAACwEtcAAAAAAAAArMQ1AAAAAAAAACtxDQAAAAAAAMBKXAMAAAAAAACwEtcAAAAA\n",
       "AAAArMQ1AAAAAAAAACtxDQAAAAAAAMBKXAMAAAAAAACwEtcAAAAAAAAArMQ1AAAAAAAAACtxDQAA\n",
       "AAAAAMBKXAMAAAAAAACwEtcAAAAAAAAArMQ1AAAAAAAAACtxDQAAAAAAAMBKXAMAAAAAAACwEtcA\n",
       "AAAAAAAArMQ1AAAAAAAAACtxDQAAAAAAAMBKXAMAAAAAAACwEtcAAAAAAAAArMQ1AAAAAAAAACtx\n",
       "DQAAAAAAAMBKXAMAAAAAAACwEtcAAAAAAAAArMQ1AAAAAAAAACtxDQAAAAAAAMBKXAMAAAAAAACw\n",
       "EtcAAAAAAAAArMQ1AAAAAAAAACtxDQAAAAAAAMBKXAMAAAAAAACwEtcAAAAAAAAArMQ1AAAAAAAA\n",
       "ACtxDQAAAAAAAMBKXAMAAAAAAACwEtcAAAAAAAAArMQ1AAAAAAAAACtxDQAAAAAAAMBKXAMAAAAA\n",
       "AACwEtcAAAAAAAAArMQ1AAAAAAAAACtxDQAAAAAAAMBKXAMAAAAAAACwEtcAAAAAAAAArMQ1AAAA\n",
       "AAAAACtxDQAAAAAAAMBKXAMAAAAAAACwEtcAAAAAAAAArMQ1AAAAAAAAACtxDQAAAAAAAMBKXAMA\n",
       "AAAAAACwEtcAAAAAAAAArMQ1AAAAAAAAACtxDQAAAAAAAMBKXAMAAAAAAACwEtcAAAAAAAAArMQ1\n",
       "AAAAAAAAACtxDQAAAAAAAMBKXAMAAAAAAACwEtcAAAAAAAAArMQ1AAAAAAAAACtxDQAAAAAAAMBK\n",
       "XAMAAAAAAACwEtcAAAAAAAAArMQ1AAAAAAAAACtxDQAAAAAAAMBKXAMAAAAAAACwEtcAAAAAAAAA\n",
       "rMQ1AAAAAAAAACtxDQAAAAAAAMBKXAMAAAAAAACwEtcAAAAAAAAArMQ1AAAAAAAAACtxDQAAAAAA\n",
       "AMBKXAMAAAAAAACwEtcAAAAAAAAArMQ1AAAAAAAAACtxDQAAAAAAAMBKXAMAAAAAAACwEtcAAAAA\n",
       "AAAArMQ1AAAAAAAAACtxDQAAAAAAAMBKXAMAAAAAAACwEtcAAAAAAAAArMQ1AAAAAAAAACtxDQAA\n",
       "AAAAAMBKXAMAAAAAAACwEtcAAAAAAAAArMQ1AAAAAAAAACtxDQAAAAAAAMBKXAMAAAAAAACwEtcA\n",
       "AAAAAAAArMQ1AAAAAAAAACtxDQAAAAAAAMBKXAMAAAAAAACwEtcAAAAAAAAArMQ1AAAAAAAAACtx\n",
       "DQAAAAAAAMBKXAMAAAAAAACwEtcAAAAAAAAArMQ1AAAAAAAAACtxDQAAAAAAAMBKXAMAAAAAAACw\n",
       "EtcAAAAAAAAArMQ1AAAAAAAAACtxDQAAAAAAAMBKXAMAAAAAAACwEtcAAAAAAAAArMQ1AAAAAAAA\n",
       "ACtxDQAAAAAAAMBKXAMAAAAAAACwEtcAAAAAAAAArMQ1AAAAAAAAACtxDQAAAAAAAMBKXAMAAAAA\n",
       "AACwEtcAAAAAAAAArMQ1AAAAAAAAACtxDQAAAAAAAMBKXAMAAAAAAACwEtcAAAAAAAAArMQ1AAAA\n",
       "AAAAACtxDQAAAAAAAMBKXAMAAAAAAACwEtcAAAAAAAAArMQ1AAAAAAAAACtxDQAAAAAAAMBKXAMA\n",
       "AAAAAACwEtcAAAAAAAAArMQ1AAAAAAAAACtxDQAAAAAAAMBKXAMAAAAAAACwEtcAAAAAAAAArMQ1\n",
       "AAAAAAAAACtxDQAAAAAAAMBKXAMAAAAAAACwEtcAAAAAAAAArMQ1AAAAAAAAACtxDQAAAAAAAMBK\n",
       "XAMAAAAAAACwEtcAAAAAAAAArMQ1AAAAAAAAACtxDQAAAAAAAMBKXAMAAAAAAACwEtcAAAAAAAAA\n",
       "rMQ1AAAAAAAAACtxDQAAAAAAAMBKXAMAAAAAAACwEtcAAAAAAAAArMQ1AAAAAAAAACtxDQAAAAAA\n",
       "AMBKXAMAAAAAAACwEtcAAAAAAAAArMQ1AAAAAAAAACtxDQAAAAAAAMBKXAMAAAAAAACwEtcAAAAA\n",
       "AAAArMQ1AAAAAAAAACtxDQAAAAAAAMBKXAMAAAAAAACwEtcAAAAAAAAArMQ1AAAAAAAAACtxDQAA\n",
       "AAAAAMBKXAMAAAAAAACwEtcAAAAAAAAArMQ1AAAAAAAAACtxDQAAAAAAAMBKXAMAAAAAAACwEtcA\n",
       "AAAAAAAArMQ1AAAAAAAAACtxDQAAAAAAAMBKXAMAAAAAAACwEtcAAAAAAAAArMQ1AAAAAAAAACtx\n",
       "DQAAAAAAAMBKXAMAAAAAAACwEtcAAAAAAAAArMQ1AAAAAAAAACtxDQAAAAAAAMBKXAMAAAAAAACw\n",
       "EtcAAAAAAAAArMQ1AAAAAAAAACtxDQAAAAAAAMBKXAMAAAAAAACwEtcAAAAAAAAArMQ1AAAAAAAA\n",
       "ACtxDQAAAAAAAMBKXAMAAAAAAACwEtcAAAAAAAAArMQ1AAAAAAAAACtxDQAAAAAAAMBKXAMAAAAA\n",
       "AACwEtcAAAAAAAAArMQ1AAAAAAAAACtxDQAAAAAAAMBKXAMAAAAAAACwEtcAAAAAAAAArMQ1AAAA\n",
       "AAAAACtxDQAAAAAAAMBKXAMAAAAAAACwEtcAAAAAAAAArMQ1AAAAAAAAACtxDQAAAAAAAMBKXAMA\n",
       "AAAAAACwEtcAAAAAAAAArMQ1AAAAAAAAACtxDQAAAAAAAMBKXAMAAAAAAACwEtcAAAAAAAAArMQ1\n",
       "AAAAAAAAACtxDQAAAAAAAMBKXAMAAAAAAACwEtcAAAAAAAAArMQ1AAAAAAAAACtxDQAAAAAAAMBK\n",
       "XAMAAAAAAACwEtcAAAAAAAAArMQ1AAAAAAAAACtxDQAAAAAAAMBKXAMAAAAAAACwEtcAAAAAAAAA\n",
       "rMQ1AAAAAAAAACtxDQAAAAAAAMBKXAMAAAAAAACwEtcAAAAAAAAArMQ1AAAAAAAAACtxDQAAAAAA\n",
       "AMBKXAMAAAAAAACwEtcAAAAAAAAArMQ1AAAAAAAAACtxDQAAAAAAAMBKXAMAAAAAAACwEtcAAAAA\n",
       "AAAArMQ1AAAAAAAAACtxDQAAAAAAAMBKXAMAAAAAAACwEtcAAAAAAAAArMQ1AAAAAAAAACtxDQAA\n",
       "AAAAAMBKXAMAAAAAAACwEtcAAAAAAAAArMQ1AAAAAAAAACtxDQAAAAAAAMBKXAMAAAAAAACwEtcA\n",
       "AAAAAAAArMQ1AAAAAAAAACtxDQAAAAAAAMBKXAMAAAAAAACwEtcAAAAAAAAArMQ1AAAAAAAAACtx\n",
       "DQAAAAAAAMBKXAMAAAAAAACwEtcAAAAAAAAArMQ1AAAAAAAAACtxDQAAAAAAAMBKXAMAAAAAAACw\n",
       "EtcAAAAAAAAArMQ1AAAAAAAAACtxDQAAAAAAAMBKXAMAAAAAAACwEtcAAAAAAAAArMQ1AAAAAAAA\n",
       "ACtxDQAAAAAAAMBKXAMAAAAAAACwEtcAAAAAAAAArMQ1AAAAAAAAACtxDQAAAAAAAMBKXAMAAAAA\n",
       "AACwEtcAAAAAAAAArMQ1AAAAAAAAACtxDQAAAAAAAMBKXAMAAAAAAACwEtcAAAAAAAAArMQ1AAAA\n",
       "AAAAACtxDQAAAAAAAMBKXAMAAAAAAACwEtcAAAAAAAAArMQ1AAAAAAAAACtxDQAAAAAAAMBKXAMA\n",
       "AAAAAACwEtcAAAAAAAAArMQ1AAAAAAAAACtxDQAAAAAAAMBKXAMAAAAAAACwEtcAAAAAAAAArMQ1\n",
       "AAAAAAAAACtxDQAAAAAAAMBKXAMAAAAAAACwEtcAAAAAAAAArMQ1AAAAAAAAACtxDQAAAAAAAMBK\n",
       "XAMAAAAAAACwEtcAAAAAAAAArMQ1AAAAAAAAACtxDQAAAAAAAMBKXAMAAAAAAACwEtcAAAAAAAAA\n",
       "rMQ1AAAAAAAAACtxDQAAAAAAAMBKXAMAAAAAAACwEtcAAAAAAAAArMQ1AAAAAAAAACtxDQAAAAAA\n",
       "AMBKXAMAAAAAAACwEtcAAAAAAAAArMQ1AAAAAAAAACtxDQAAAAAAAMBKXAMAAAAAAACwEtcAAAAA\n",
       "AAAArMQ1AAAAAAAAACtxDQAAAAAAAMBKXAMAAAAAAACwEtcAAAAAAAAArMQ1AAAAAAAAACtxDQAA\n",
       "AAAAAMBKXAMAAAAAAACwEtcAAAAAAAAArMQ1AAAAAAAAACtxDQAAAAAAAMBKXAMAAAAAAACwCiG+\n",
       "FSbZ1QCaAAAAAElFTkSuQmCC\n",
       "\" transform=\"translate(147, 47)\"/>\n",
       "</g>\n",
       "<defs>\n",
       "  <clipPath id=\"clip633\">\n",
       "    <rect x=\"2160\" y=\"47\" width=\"73\" height=\"1440\"/>\n",
       "  </clipPath>\n",
       "</defs>\n",
       "<g clip-path=\"url(#clip633)\">\n",
       "<image width=\"72\" height=\"1439\" xlink:href=\"data:image/png;base64,\n",
       "iVBORw0KGgoAAAANSUhEUgAAAEgAAAWfCAYAAAAI7rB3AAAMWUlEQVR4nO3dwY0rRxAFwaZQ/lsh\n",
       "L6XfLQtUeSQPERYsEg8c9MyQ+/n3/v0O/+uvb/8Bv06gIFAQKAgU5r5/v/03/DQLCgIFgYJAQaAw\n",
       "7/359t/w0ywoCBQECgIFR41gQUGgIFAQKAgU5rmKrSwoCBQECgIFgcK86yq2saAgUBAoCBQcNYIF\n",
       "BYGCQEGgIFBwFQsWFAQKAgWBgvtBwYKCQEGgIFAQKMxx1FhZUBAoCBQECgIFN8yCBQWBgkBBoDDH\n",
       "DbOVBQWBgkBBoCBQmHP/+fbf8NMsKAgUBAoCBYGCxz7BgoJAQaAgUHDDLFhQECgIFAQKAgVXsWBB\n",
       "QaAgUBAouB8ULCgIFAQKAgWBwnwcNVYWFAQKAgWBgkBhzvWfWTYWFAQKAgWBgqNGsKAgUBAoCBQE\n",
       "Co4awYKCQEGgIFAQKHjDLFhQECgIFAQK83HUWFlQECgIFAQKAgXvSQcLCgIFgYJAwVEjWFAQKAgU\n",
       "BAoCBc/mgwUFgYJAQaAgUHAWCxYUBAoCBYGCo0awoCBQECgIFAQKjhrBgoJAQaAgUBAozLn323/D\n",
       "T7OgIFAQKAgUHDWCBQWBgkBBoCBQ8NgnWFAQKAgUBAo+pIMFBYGCQEGgIFCYj6caKwsKAgWBgkBB\n",
       "oOAsFiwoCBQECgIFL1AFCwoCBYGCQEGg4IZZsKAgUBAoCBTcDwoWFAQKAgWBgkDBDbNgQUGgIFAQ\n",
       "KAgUXMWCBQWBgkBBoOB788GCgkBBoCBQECg4agQLCgIFgYJAQaDgKhYsKAgUBAoCBR/SwYKCQEGg\n",
       "IFAQKLiKBQsKAgWBgkBhzvMhvbGgIFAQKAgUBAqOGsGCgkBBoCBQECi4igULCgIFgYJAwYd0sKAg\n",
       "UBAoCBQECnPu+/bf8NMsKAgUBAoCBYGCs1iwoCBQECgIFBw1ggUFgYJAQaAgUHDUCBYUBAoCBYGC\n",
       "o0awoCBQECgIFAQKc5w0VhYUBAoCBYGCQGHOcxbbWFAQKAgUBAqOGsGCgkBBoCBQECi4igULCgIF\n",
       "gYJAQaAwfohzZ0FBoCBQECg4agQLCgIFgYJAQaDgKhYsKAgUBAoChTn38+2/4adZUBAoCBQECgKF\n",
       "ec9VbGNBQaAgUBAoCBTcMAsWFAQKAgWBghtmwYKCQEGgIFAQKMy7Gm3UCQIFgYJAwVEjWFAQKAgU\n",
       "BAoChTmeza8sKAgUBAoCBYHCPGexlQUFgYJAQaAwx1ONlTpBoCBQECgIFBw1ggUFgYJAQaAgUPDY\n",
       "J1hQECgIFAQKXgMO6gSBgkBBoCBQ8J50sKAgUBAoCBQ81QgWFAQKAgWBgkBh3tNoo04QKAgUBAoC\n",
       "BTfMggUFgYJAQaDghlmwoCBQECgIFAQKc9wwW6kTBAoCBYGCQMFZLFhQECgIFAQKPqSDBQWBgkBB\n",
       "oCBQ8L35YEFBoCBQECj43nxQJwgUBAoCBYHCPEeNlQUFgYJAQaAgUPDYJ1hQECgIFAQK/jNLUCcI\n",
       "FAQKAgWBghtmwYKCQEGgIFAQKLhhFiwoCBQECgIFR41gQUGgIFAQKAgUvCcd1AkCBYGCQMFRI1hQ\n",
       "ECgIFAQKAgVPNYIFBYGCQEGgIFBwFgsWFAQKAgWBgn+fFSwoCBQECgIFgYJ/ZRzUCQIFgYJAQaDg\n",
       "hlmwoCBQECgIFDybDxYUBAoCBYGCQMFRI1hQECgIFAQKc31IrywoCBQECgIFgYLvzQd1gkBBoCBQ\n",
       "ECi4YRYsKAgUBAoCBR/SwYKCQEGgIFAQKHjDLFhQECgIFAQKjhrBgoJAQaAgUBAouIoFCwoCBYGC\n",
       "QEGg4NdfgjpBoCBQECjM9VRjZUFBoCBQECgIFNwwCxYUBAoCBYGCQMFVLFhQECgIFAQKPqSDBQWB\n",
       "gkBBoCBQ8BtmwYKCQEGgIFBw1AgWFAQKAgWBgkDBVSxYUBAoCBQECgIFX2YJ6gSBgkBBoODLLMGC\n",
       "gkBBoCBQECi4YRYsKAgUBAoCBYGCq1iwoCBQECgIFLwGHCwoCBQECgIFgYKjRrCgIFAQKAgU5h0f\n",
       "0hsLCgIFgYJAQaDghlmwoCBQECgIFAQKbpgFCwoCBYGCQMFRI1hQECgIFAQKAgVHjWBBQaAgUBAo\n",
       "CBScxYIFBYGCQEGg4KgRLCgIFAQKAgWBgqtYsKAgUBAoCBTm+jLLyoKCQEGgIFAQKDhqBAsKAgWB\n",
       "gkBBoODZfLCgIFAQKAgU5r1v/wm/zYKCQEGgIFAQKDhqBAsKAgWBgkDBD00GCwoCBYGCQEGg4KgR\n",
       "LCgIFAQKAgWBgjfMggUFgYJAQaDgyyzBgoJAQaAgUBAoeMMsWFAQKAgUBAoCBY99ggUFgYJAQaDg\n",
       "qUawoCBQECgIFAQKHvsECwoCBYGCQMH9oGBBQaAgUBAoCBQ8mw8WFAQKAgWBgkDBDbNgQUGgIFAQ\n",
       "KHg2HywoCBQECgIFgcLcb/8FP86CgkBBoCBQECg4iwULCgIFgYJAwRtmwYKCQEGgIFAQKLhhFiwo\n",
       "CBQECgIF94OCBQWBgkBBoCBQcNQIFhQECgIFgYJAwVksWFAQKAgUBAqezQcLCgIFgYJAQaAwfvxl\n",
       "Z0FBoCBQECgIFJzFggUFgYJAQaDg2XywoCBQECgIFAQKns0HCwoCBYGCQMFRI1hQECgIFAQKAgVH\n",
       "jWBBQaAgUBAoCBTmesVsZUFBoCBQECi4YRYsKAgUBAoCBYGCG2bBgoJAQaAgUHDUCBYUBAoCBYGC\n",
       "QGGepxorCwoCBYGCQEGgMPe4YbaxoCBQECgIFLxAFSwoCBQECgIFgYIfmgwWFAQKAgWBgkDBD00G\n",
       "CwoCBYGCQMGz+WBBQaAgUBAoCBS8Jx0sKAgUBAoCBd84DBYUBAoCBYGCQMFRI1hQECgIFAQKAgXv\n",
       "SQcLCgIFgYJAwWvAwYKCQEGgIFAQKDhqBAsKAgWBgkBBoOA96WBBQaAgUBAo+ImuYEFBoCBQECgI\n",
       "FNwwCxYUBAoCBYGCZ/PBgoJAQaAgUBAoOGoECwoCBYGCQEGg4CwWLCgIFAQKAgVHjWBBQaAgUBAo\n",
       "CBRcxYIFBYGCQEGgIFBwwyxYUBAoCBQECo4awYKCQEGgIFAQKDhqBAsKAgWBgkDBUSNYUBAoCBQE\n",
       "CgIFP9EVLCgIFAQKAgWBgv8vFiwoCBQECgIFN8yCBQWBgkBBoCBQmHdcxjYWFAQKAgWBgkDBWSxY\n",
       "UBAoCBQECp7NBwsKAgWBgkBBoODZfLCgIFAQKAgU3A8KFhQECgIFgYJAwbP5YEFBoCBQECgIFJzF\n",
       "ggUFgYJAQaDgJ7qCBQWBgkBBoCBQmOsVs5UFBYGCQEGg4AWqYEFBoCBQECgIFOY5aqwsKAgUBAoC\n",
       "BYGCs1iwoCBQECgIFDzVCBYUBAoCBYGCQMEbZsGCgkBBoCBQECjM9ZXMlQUFgYJAQaDghlmwoCBQ\n",
       "ECgIFAQKfv0lWFAQKAgUBApeoAoWFAQKAgWBgkDBU41gQUGgIFAQKAgU3DALFhQECgIFgcLc45bZ\n",
       "xoKCQEGgIFAQKLhhFiwoCBQECgIFgYKrWLCgIFAQKAgUPNUIFhQECgIFgYJAwWOfYEFBoCBQECjM\n",
       "/ThqbCwoCBQECgIFgYKjRrCgIFAQKAgUBArzXMVWFhQECgIFgYKjRrCgIFAQKAgUBApzP65iGwsK\n",
       "AgWBgkBBoOAsFiwoCBQECgIFTzWCBQWBgkBBoCBQcNQIFhQECgIFgYIP6WBBQaAgUBAoCBQ8mw8W\n",
       "FAQKAgWBgkBh3vnz7b/hp1lQECgIFAQKbpgFCwoCBYGCQEGg4A2zYEFBoCBQECjMfe4HbSwoCBQE\n",
       "CgIFgYKjRrCgIFAQKAgUBApzPZtfWVAQKAgUBAqOGsGCgkBBoCBQECg4agQLCgIFgYJAQaAw7zmL\n",
       "bSwoCBQECgIFN8yCBQWBgkBBoCBQ8J50sKAgUBAoCBQcNYIFBYGCQEGgIFCY56ixsqAgUBAoCBQE\n",
       "Cs5iwYKCQEGgIFCY6wWqlQUFgYJAQaAgUPCb9sGCgkBBoCBQECj4MkuwoCBQECgIFDzVCBYUBAoC\n",
       "BYGCQMFRI1hQECgIFAQKPqSDBQWBgkBBoCBQ8Gw+WFAQKAgUBAoCBWexYEFBoCBQECjM8Wx+ZUFB\n",
       "oCBQECgIFBw1ggUFgYJAQaAgUPCedLCgIFAQKAgU5jhqrCwoCBQECgIFgYI3zIIFBYGCQEGg4Nl8\n",
       "sKAgUBAoCBQECm6YBQsKAgWBgkBBoDDvvG//DT/NgoJAQaAgUHDDLFhQECgIFAQKAoU5jhorCwoC\n",
       "BYGCQOE/LrLuTX/wFc8AAAAASUVORK5CYII=\n",
       "\" transform=\"translate(2161, 47)\"/>\n",
       "</g>\n",
       "<path clip-path=\"url(#clip630)\" d=\"M 0 0 M2268.76 1377.97 L2298.43 1377.97 L2298.43 1381.91 L2268.76 1381.91 L2268.76 1377.97 Z\" fill=\"#000000\" fill-rule=\"evenodd\" fill-opacity=\"1\" /><path clip-path=\"url(#clip630)\" d=\"M 0 0 M2313.5 1363.32 Q2309.89 1363.32 2308.06 1366.88 Q2306.26 1370.43 2306.26 1377.56 Q2306.26 1384.66 2308.06 1388.23 Q2309.89 1391.77 2313.5 1391.77 Q2317.14 1391.77 2318.94 1388.23 Q2320.77 1384.66 2320.77 1377.56 Q2320.77 1370.43 2318.94 1366.88 Q2317.14 1363.32 2313.5 1363.32 M2313.5 1359.62 Q2319.31 1359.62 2322.37 1364.22 Q2325.45 1368.81 2325.45 1377.56 Q2325.45 1386.28 2322.37 1390.89 Q2319.31 1395.47 2313.5 1395.47 Q2307.69 1395.47 2304.61 1390.89 Q2301.56 1386.28 2301.56 1377.56 Q2301.56 1368.81 2304.61 1364.22 Q2307.69 1359.62 2313.5 1359.62 Z\" fill=\"#000000\" fill-rule=\"evenodd\" fill-opacity=\"1\" /><path clip-path=\"url(#clip630)\" d=\"M 0 0 M2330.51 1388.92 L2335.4 1388.92 L2335.4 1394.8 L2330.51 1394.8 L2330.51 1388.92 Z\" fill=\"#000000\" fill-rule=\"evenodd\" fill-opacity=\"1\" /><path clip-path=\"url(#clip630)\" d=\"M 0 0 M2350.47 1363.32 Q2346.86 1363.32 2345.03 1366.88 Q2343.22 1370.43 2343.22 1377.56 Q2343.22 1384.66 2345.03 1388.23 Q2346.86 1391.77 2350.47 1391.77 Q2354.1 1391.77 2355.91 1388.23 Q2357.74 1384.66 2357.74 1377.56 Q2357.74 1370.43 2355.91 1366.88 Q2354.1 1363.32 2350.47 1363.32 M2350.47 1359.62 Q2356.28 1359.62 2359.33 1364.22 Q2362.41 1368.81 2362.41 1377.56 Q2362.41 1386.28 2359.33 1390.89 Q2356.28 1395.47 2350.47 1395.47 Q2344.66 1395.47 2341.58 1390.89 Q2338.52 1386.28 2338.52 1377.56 Q2338.52 1368.81 2341.58 1364.22 Q2344.66 1359.62 2350.47 1359.62 Z\" fill=\"#000000\" fill-rule=\"evenodd\" fill-opacity=\"1\" /><path clip-path=\"url(#clip630)\" d=\"M 0 0 M2367.53 1360.24 L2385.88 1360.24 L2385.88 1364.18 L2371.81 1364.18 L2371.81 1372.65 Q2372.83 1372.3 2373.85 1372.14 Q2374.87 1371.95 2375.88 1371.95 Q2381.67 1371.95 2385.05 1375.13 Q2388.43 1378.3 2388.43 1383.71 Q2388.43 1389.29 2384.96 1392.39 Q2381.49 1395.47 2375.17 1395.47 Q2372.99 1395.47 2370.72 1395.1 Q2368.48 1394.73 2366.07 1393.99 L2366.07 1389.29 Q2368.15 1390.43 2370.38 1390.98 Q2372.6 1391.54 2375.07 1391.54 Q2379.08 1391.54 2381.42 1389.43 Q2383.76 1387.32 2383.76 1383.71 Q2383.76 1380.1 2381.42 1378 Q2379.08 1375.89 2375.07 1375.89 Q2373.2 1375.89 2371.32 1376.31 Q2369.47 1376.72 2367.53 1377.6 L2367.53 1360.24 Z\" fill=\"#000000\" fill-rule=\"evenodd\" fill-opacity=\"1\" /><path clip-path=\"url(#clip630)\" d=\"M 0 0 M2280.7 1178.15 Q2277.09 1178.15 2275.26 1181.72 Q2273.45 1185.26 2273.45 1192.39 Q2273.45 1199.5 2275.26 1203.06 Q2277.09 1206.6 2280.7 1206.6 Q2284.33 1206.6 2286.14 1203.06 Q2287.97 1199.5 2287.97 1192.39 Q2287.97 1185.26 2286.14 1181.72 Q2284.33 1178.15 2280.7 1178.15 M2280.7 1174.45 Q2286.51 1174.45 2289.57 1179.06 Q2292.64 1183.64 2292.64 1192.39 Q2292.64 1201.12 2289.57 1205.72 Q2286.51 1210.31 2280.7 1210.31 Q2274.89 1210.31 2271.81 1205.72 Q2268.76 1201.12 2268.76 1192.39 Q2268.76 1183.64 2271.81 1179.06 Q2274.89 1174.45 2280.7 1174.45 Z\" fill=\"#000000\" fill-rule=\"evenodd\" fill-opacity=\"1\" /><path clip-path=\"url(#clip630)\" d=\"M 0 0 M2280.7 992.988 Q2277.09 992.988 2275.26 996.553 Q2273.45 1000.09 2273.45 1007.22 Q2273.45 1014.33 2275.26 1017.9 Q2277.09 1021.44 2280.7 1021.44 Q2284.33 1021.44 2286.14 1017.9 Q2287.97 1014.33 2287.97 1007.22 Q2287.97 1000.09 2286.14 996.553 Q2284.33 992.988 2280.7 992.988 M2280.7 989.284 Q2286.51 989.284 2289.57 993.891 Q2292.64 998.474 2292.64 1007.22 Q2292.64 1015.95 2289.57 1020.56 Q2286.51 1025.14 2280.7 1025.14 Q2274.89 1025.14 2271.81 1020.56 Q2268.76 1015.95 2268.76 1007.22 Q2268.76 998.474 2271.81 993.891 Q2274.89 989.284 2280.7 989.284 Z\" fill=\"#000000\" fill-rule=\"evenodd\" fill-opacity=\"1\" /><path clip-path=\"url(#clip630)\" d=\"M 0 0 M2297.71 1018.59 L2302.6 1018.59 L2302.6 1024.47 L2297.71 1024.47 L2297.71 1018.59 Z\" fill=\"#000000\" fill-rule=\"evenodd\" fill-opacity=\"1\" /><path clip-path=\"url(#clip630)\" d=\"M 0 0 M2317.67 992.988 Q2314.06 992.988 2312.23 996.553 Q2310.42 1000.09 2310.42 1007.22 Q2310.42 1014.33 2312.23 1017.9 Q2314.06 1021.44 2317.67 1021.44 Q2321.3 1021.44 2323.11 1017.9 Q2324.94 1014.33 2324.94 1007.22 Q2324.94 1000.09 2323.11 996.553 Q2321.3 992.988 2317.67 992.988 M2317.67 989.284 Q2323.48 989.284 2326.53 993.891 Q2329.61 998.474 2329.61 1007.22 Q2329.61 1015.95 2326.53 1020.56 Q2323.48 1025.14 2317.67 1025.14 Q2311.86 1025.14 2308.78 1020.56 Q2305.72 1015.95 2305.72 1007.22 Q2305.72 998.474 2308.78 993.891 Q2311.86 989.284 2317.67 989.284 Z\" fill=\"#000000\" fill-rule=\"evenodd\" fill-opacity=\"1\" /><path clip-path=\"url(#clip630)\" d=\"M 0 0 M2334.73 989.909 L2353.08 989.909 L2353.08 993.845 L2339.01 993.845 L2339.01 1002.32 Q2340.03 1001.97 2341.05 1001.81 Q2342.07 1001.62 2343.08 1001.62 Q2348.87 1001.62 2352.25 1004.79 Q2355.63 1007.96 2355.63 1013.38 Q2355.63 1018.96 2352.16 1022.06 Q2348.69 1025.14 2342.37 1025.14 Q2340.19 1025.14 2337.92 1024.77 Q2335.68 1024.4 2333.27 1023.66 L2333.27 1018.96 Q2335.35 1020.09 2337.57 1020.65 Q2339.8 1021.21 2342.27 1021.21 Q2346.28 1021.21 2348.62 1019.1 Q2350.95 1016.99 2350.95 1013.38 Q2350.95 1009.77 2348.62 1007.66 Q2346.28 1005.56 2342.27 1005.56 Q2340.4 1005.56 2338.52 1005.97 Q2336.67 1006.39 2334.73 1007.27 L2334.73 989.909 Z\" fill=\"#000000\" fill-rule=\"evenodd\" fill-opacity=\"1\" /><path clip-path=\"url(#clip630)\" d=\"M 0 0 M2280.7 807.822 Q2277.09 807.822 2275.26 811.387 Q2273.45 814.929 2273.45 822.058 Q2273.45 829.165 2275.26 832.729 Q2277.09 836.271 2280.7 836.271 Q2284.33 836.271 2286.14 832.729 Q2287.97 829.165 2287.97 822.058 Q2287.97 814.929 2286.14 811.387 Q2284.33 807.822 2280.7 807.822 M2280.7 804.118 Q2286.51 804.118 2289.57 808.725 Q2292.64 813.308 2292.64 822.058 Q2292.64 830.785 2289.57 835.391 Q2286.51 839.975 2280.7 839.975 Q2274.89 839.975 2271.81 835.391 Q2268.76 830.785 2268.76 822.058 Q2268.76 813.308 2271.81 808.725 Q2274.89 804.118 2280.7 804.118 Z\" fill=\"#000000\" fill-rule=\"evenodd\" fill-opacity=\"1\" /><path clip-path=\"url(#clip630)\" d=\"M 0 0 M2297.71 833.424 L2302.6 833.424 L2302.6 839.303 L2297.71 839.303 L2297.71 833.424 Z\" fill=\"#000000\" fill-rule=\"evenodd\" fill-opacity=\"1\" /><path clip-path=\"url(#clip630)\" d=\"M 0 0 M2308.48 835.368 L2316.12 835.368 L2316.12 809.003 L2307.81 810.669 L2307.81 806.41 L2316.07 804.743 L2320.75 804.743 L2320.75 835.368 L2328.39 835.368 L2328.39 839.303 L2308.48 839.303 L2308.48 835.368 Z\" fill=\"#000000\" fill-rule=\"evenodd\" fill-opacity=\"1\" /><path clip-path=\"url(#clip630)\" d=\"M 0 0 M2343.45 807.822 Q2339.84 807.822 2338.01 811.387 Q2336.21 814.929 2336.21 822.058 Q2336.21 829.165 2338.01 832.729 Q2339.84 836.271 2343.45 836.271 Q2347.09 836.271 2348.89 832.729 Q2350.72 829.165 2350.72 822.058 Q2350.72 814.929 2348.89 811.387 Q2347.09 807.822 2343.45 807.822 M2343.45 804.118 Q2349.26 804.118 2352.32 808.725 Q2355.4 813.308 2355.4 822.058 Q2355.4 830.785 2352.32 835.391 Q2349.26 839.975 2343.45 839.975 Q2337.64 839.975 2334.57 835.391 Q2331.51 830.785 2331.51 822.058 Q2331.51 813.308 2334.57 808.725 Q2337.64 804.118 2343.45 804.118 Z\" fill=\"#000000\" fill-rule=\"evenodd\" fill-opacity=\"1\" /><path clip-path=\"url(#clip630)\" d=\"M 0 0 M2280.7 622.656 Q2277.09 622.656 2275.26 626.221 Q2273.45 629.763 2273.45 636.892 Q2273.45 643.999 2275.26 647.563 Q2277.09 651.105 2280.7 651.105 Q2284.33 651.105 2286.14 647.563 Q2287.97 643.999 2287.97 636.892 Q2287.97 629.763 2286.14 626.221 Q2284.33 622.656 2280.7 622.656 M2280.7 618.952 Q2286.51 618.952 2289.57 623.559 Q2292.64 628.142 2292.64 636.892 Q2292.64 645.619 2289.57 650.225 Q2286.51 654.809 2280.7 654.809 Q2274.89 654.809 2271.81 650.225 Q2268.76 645.619 2268.76 636.892 Q2268.76 628.142 2271.81 623.559 Q2274.89 618.952 2280.7 618.952 Z\" fill=\"#000000\" fill-rule=\"evenodd\" fill-opacity=\"1\" /><path clip-path=\"url(#clip630)\" d=\"M 0 0 M2297.71 648.258 L2302.6 648.258 L2302.6 654.137 L2297.71 654.137 L2297.71 648.258 Z\" fill=\"#000000\" fill-rule=\"evenodd\" fill-opacity=\"1\" /><path clip-path=\"url(#clip630)\" d=\"M 0 0 M2308.48 650.202 L2316.12 650.202 L2316.12 623.837 L2307.81 625.503 L2307.81 621.244 L2316.07 619.577 L2320.75 619.577 L2320.75 650.202 L2328.39 650.202 L2328.39 654.137 L2308.48 654.137 L2308.48 650.202 Z\" fill=\"#000000\" fill-rule=\"evenodd\" fill-opacity=\"1\" /><path clip-path=\"url(#clip630)\" d=\"M 0 0 M2333.5 619.577 L2351.86 619.577 L2351.86 623.513 L2337.78 623.513 L2337.78 631.985 Q2338.8 631.638 2339.82 631.475 Q2340.84 631.29 2341.86 631.29 Q2347.64 631.29 2351.02 634.462 Q2354.4 637.633 2354.4 643.049 Q2354.4 648.628 2350.93 651.73 Q2347.46 654.809 2341.14 654.809 Q2338.96 654.809 2336.7 654.438 Q2334.45 654.068 2332.04 653.327 L2332.04 648.628 Q2334.13 649.762 2336.35 650.318 Q2338.57 650.874 2341.05 650.874 Q2345.05 650.874 2347.39 648.767 Q2349.73 646.661 2349.73 643.049 Q2349.73 639.438 2347.39 637.332 Q2345.05 635.225 2341.05 635.225 Q2339.17 635.225 2337.3 635.642 Q2335.45 636.059 2333.5 636.938 L2333.5 619.577 Z\" fill=\"#000000\" fill-rule=\"evenodd\" fill-opacity=\"1\" /><path clip-path=\"url(#clip630)\" d=\"M 0 0 M2280.7 437.49 Q2277.09 437.49 2275.26 441.055 Q2273.45 444.597 2273.45 451.726 Q2273.45 458.833 2275.26 462.397 Q2277.09 465.939 2280.7 465.939 Q2284.33 465.939 2286.14 462.397 Q2287.97 458.833 2287.97 451.726 Q2287.97 444.597 2286.14 441.055 Q2284.33 437.49 2280.7 437.49 M2280.7 433.786 Q2286.51 433.786 2289.57 438.393 Q2292.64 442.976 2292.64 451.726 Q2292.64 460.453 2289.57 465.059 Q2286.51 469.643 2280.7 469.643 Q2274.89 469.643 2271.81 465.059 Q2268.76 460.453 2268.76 451.726 Q2268.76 442.976 2271.81 438.393 Q2274.89 433.786 2280.7 433.786 Z\" fill=\"#000000\" fill-rule=\"evenodd\" fill-opacity=\"1\" /><path clip-path=\"url(#clip630)\" d=\"M 0 0 M2297.71 463.092 L2302.6 463.092 L2302.6 468.971 L2297.71 468.971 L2297.71 463.092 Z\" fill=\"#000000\" fill-rule=\"evenodd\" fill-opacity=\"1\" /><path clip-path=\"url(#clip630)\" d=\"M 0 0 M2311.7 465.036 L2328.01 465.036 L2328.01 468.971 L2306.07 468.971 L2306.07 465.036 Q2308.73 462.282 2313.32 457.652 Q2317.92 452.999 2319.1 451.657 Q2321.35 449.134 2322.23 447.397 Q2323.13 445.638 2323.13 443.948 Q2323.13 441.194 2321.19 439.458 Q2319.26 437.722 2316.16 437.722 Q2313.96 437.722 2311.51 438.485 Q2309.08 439.249 2306.3 440.8 L2306.3 436.078 Q2309.13 434.944 2311.58 434.365 Q2314.03 433.786 2316.07 433.786 Q2321.44 433.786 2324.64 436.472 Q2327.83 439.157 2327.83 443.647 Q2327.83 445.777 2327.02 447.698 Q2326.23 449.597 2324.13 452.189 Q2323.55 452.86 2320.45 456.078 Q2317.34 459.272 2311.7 465.036 Z\" fill=\"#000000\" fill-rule=\"evenodd\" fill-opacity=\"1\" /><path clip-path=\"url(#clip630)\" d=\"M 0 0 M2343.08 437.49 Q2339.47 437.49 2337.64 441.055 Q2335.84 444.597 2335.84 451.726 Q2335.84 458.833 2337.64 462.397 Q2339.47 465.939 2343.08 465.939 Q2346.72 465.939 2348.52 462.397 Q2350.35 458.833 2350.35 451.726 Q2350.35 444.597 2348.52 441.055 Q2346.72 437.49 2343.08 437.49 M2343.08 433.786 Q2348.89 433.786 2351.95 438.393 Q2355.03 442.976 2355.03 451.726 Q2355.03 460.453 2351.95 465.059 Q2348.89 469.643 2343.08 469.643 Q2337.27 469.643 2334.2 465.059 Q2331.14 460.453 2331.14 451.726 Q2331.14 442.976 2334.2 438.393 Q2337.27 433.786 2343.08 433.786 Z\" fill=\"#000000\" fill-rule=\"evenodd\" fill-opacity=\"1\" /><path clip-path=\"url(#clip630)\" d=\"M 0 0 M2280.7 252.324 Q2277.09 252.324 2275.26 255.889 Q2273.45 259.431 2273.45 266.56 Q2273.45 273.667 2275.26 277.231 Q2277.09 280.773 2280.7 280.773 Q2284.33 280.773 2286.14 277.231 Q2287.97 273.667 2287.97 266.56 Q2287.97 259.431 2286.14 255.889 Q2284.33 252.324 2280.7 252.324 M2280.7 248.62 Q2286.51 248.62 2289.57 253.227 Q2292.64 257.81 2292.64 266.56 Q2292.64 275.287 2289.57 279.893 Q2286.51 284.477 2280.7 284.477 Q2274.89 284.477 2271.81 279.893 Q2268.76 275.287 2268.76 266.56 Q2268.76 257.81 2271.81 253.227 Q2274.89 248.62 2280.7 248.62 Z\" fill=\"#000000\" fill-rule=\"evenodd\" fill-opacity=\"1\" /><path clip-path=\"url(#clip630)\" d=\"M 0 0 M2297.71 277.926 L2302.6 277.926 L2302.6 283.805 L2297.71 283.805 L2297.71 277.926 Z\" fill=\"#000000\" fill-rule=\"evenodd\" fill-opacity=\"1\" /><path clip-path=\"url(#clip630)\" d=\"M 0 0 M2311.7 279.87 L2328.01 279.87 L2328.01 283.805 L2306.07 283.805 L2306.07 279.87 Q2308.73 277.116 2313.32 272.486 Q2317.92 267.833 2319.1 266.491 Q2321.35 263.968 2322.23 262.231 Q2323.13 260.472 2323.13 258.782 Q2323.13 256.028 2321.19 254.292 Q2319.26 252.556 2316.16 252.556 Q2313.96 252.556 2311.51 253.319 Q2309.08 254.083 2306.3 255.634 L2306.3 250.912 Q2309.13 249.778 2311.58 249.199 Q2314.03 248.62 2316.07 248.62 Q2321.44 248.62 2324.64 251.306 Q2327.83 253.991 2327.83 258.481 Q2327.83 260.611 2327.02 262.532 Q2326.23 264.431 2324.13 267.023 Q2323.55 267.694 2320.45 270.912 Q2317.34 274.106 2311.7 279.87 Z\" fill=\"#000000\" fill-rule=\"evenodd\" fill-opacity=\"1\" /><path clip-path=\"url(#clip630)\" d=\"M 0 0 M2333.13 249.245 L2351.49 249.245 L2351.49 253.181 L2337.41 253.181 L2337.41 261.653 Q2338.43 261.306 2339.45 261.144 Q2340.47 260.958 2341.49 260.958 Q2347.27 260.958 2350.65 264.13 Q2354.03 267.301 2354.03 272.718 Q2354.03 278.296 2350.56 281.398 Q2347.09 284.477 2340.77 284.477 Q2338.59 284.477 2336.32 284.106 Q2334.08 283.736 2331.67 282.995 L2331.67 278.296 Q2333.76 279.43 2335.98 279.986 Q2338.2 280.542 2340.68 280.542 Q2344.68 280.542 2347.02 278.435 Q2349.36 276.329 2349.36 272.718 Q2349.36 269.106 2347.02 267 Q2344.68 264.893 2340.68 264.893 Q2338.8 264.893 2336.93 265.31 Q2335.07 265.727 2333.13 266.606 L2333.13 249.245 Z\" fill=\"#000000\" fill-rule=\"evenodd\" fill-opacity=\"1\" /><path clip-path=\"url(#clip630)\" d=\"M 0 0 M2280.7 67.1581 Q2277.09 67.1581 2275.26 70.7229 Q2273.45 74.2646 2273.45 81.3942 Q2273.45 88.5006 2275.26 92.0654 Q2277.09 95.6071 2280.7 95.6071 Q2284.33 95.6071 2286.14 92.0654 Q2287.97 88.5006 2287.97 81.3942 Q2287.97 74.2646 2286.14 70.7229 Q2284.33 67.1581 2280.7 67.1581 M2280.7 63.4544 Q2286.51 63.4544 2289.57 68.0609 Q2292.64 72.6442 2292.64 81.3942 Q2292.64 90.121 2289.57 94.7274 Q2286.51 99.3107 2280.7 99.3107 Q2274.89 99.3107 2271.81 94.7274 Q2268.76 90.121 2268.76 81.3942 Q2268.76 72.6442 2271.81 68.0609 Q2274.89 63.4544 2280.7 63.4544 Z\" fill=\"#000000\" fill-rule=\"evenodd\" fill-opacity=\"1\" /><path clip-path=\"url(#clip630)\" d=\"M 0 0 M2297.71 92.7598 L2302.6 92.7598 L2302.6 98.6394 L2297.71 98.6394 L2297.71 92.7598 Z\" fill=\"#000000\" fill-rule=\"evenodd\" fill-opacity=\"1\" /><path clip-path=\"url(#clip630)\" d=\"M 0 0 M2321.83 80.0053 Q2325.19 80.7229 2327.07 82.9914 Q2328.96 85.2599 2328.96 88.5932 Q2328.96 93.7089 2325.45 96.5098 Q2321.93 99.3107 2315.45 99.3107 Q2313.27 99.3107 2310.95 98.8709 Q2308.66 98.4543 2306.21 97.5978 L2306.21 93.0839 Q2308.15 94.2182 2310.47 94.7969 Q2312.78 95.3756 2315.31 95.3756 Q2319.7 95.3756 2322 93.6395 Q2324.31 91.9034 2324.31 88.5932 Q2324.31 85.5377 2322.16 83.8247 Q2320.03 82.0886 2316.21 82.0886 L2312.18 82.0886 L2312.18 78.246 L2316.39 78.246 Q2319.84 78.246 2321.67 76.8803 Q2323.5 75.4914 2323.5 72.8988 Q2323.5 70.2368 2321.6 68.8248 Q2319.73 67.3896 2316.21 67.3896 Q2314.29 67.3896 2312.09 67.8063 Q2309.89 68.2229 2307.25 69.1026 L2307.25 64.9359 Q2309.91 64.1952 2312.23 63.8248 Q2314.57 63.4544 2316.63 63.4544 Q2321.95 63.4544 2325.05 65.885 Q2328.15 68.2924 2328.15 72.4127 Q2328.15 75.2831 2326.51 77.2738 Q2324.87 79.2414 2321.83 80.0053 Z\" fill=\"#000000\" fill-rule=\"evenodd\" fill-opacity=\"1\" /><path clip-path=\"url(#clip630)\" d=\"M 0 0 M2344.03 67.1581 Q2340.42 67.1581 2338.59 70.7229 Q2336.79 74.2646 2336.79 81.3942 Q2336.79 88.5006 2338.59 92.0654 Q2340.42 95.6071 2344.03 95.6071 Q2347.67 95.6071 2349.47 92.0654 Q2351.3 88.5006 2351.3 81.3942 Q2351.3 74.2646 2349.47 70.7229 Q2347.67 67.1581 2344.03 67.1581 M2344.03 63.4544 Q2349.84 63.4544 2352.9 68.0609 Q2355.98 72.6442 2355.98 81.3942 Q2355.98 90.121 2352.9 94.7274 Q2349.84 99.3107 2344.03 99.3107 Q2338.22 99.3107 2335.14 94.7274 Q2332.09 90.121 2332.09 81.3942 Q2332.09 72.6442 2335.14 68.0609 Q2338.22 63.4544 2344.03 63.4544 Z\" fill=\"#000000\" fill-rule=\"evenodd\" fill-opacity=\"1\" /><polyline clip-path=\"url(#clip630)\" style=\"stroke:#000000; stroke-width:4; stroke-opacity:1; fill:none\" points=\"\n",
       "  2232.76,1486.45 2232.76,1381.15 2256.76,1381.15 2232.76,1381.15 2232.76,1195.98 2256.76,1195.98 2232.76,1195.98 2232.76,1010.82 2256.76,1010.82 2232.76,1010.82 \n",
       "  2232.76,825.652 2256.76,825.652 2232.76,825.652 2232.76,640.486 2256.76,640.486 2232.76,640.486 2232.76,455.32 2256.76,455.32 2232.76,455.32 2232.76,270.154 \n",
       "  2256.76,270.154 2232.76,270.154 2232.76,84.9882 2256.76,84.9882 2232.76,84.9882 2232.76,47.2441 \n",
       "  \"/>\n",
       "</svg>\n"
      ]
     },
     "execution_count": 8,
     "metadata": {},
     "output_type": "execute_result"
    }
   ],
   "source": [
    "sz = TensorMap([1 0;0 -1],ℂ^2,ℂ^2)\n",
    "heatmap(real.(expectation_value(env,sz)))"
   ]
  },
  {
   "cell_type": "code",
   "execution_count": 9,
   "metadata": {},
   "outputs": [
    {
     "data": {
      "text/plain": [
       "1.9279346420069436 + 1.8562163031228454e-15im"
      ]
     },
     "execution_count": 9,
     "metadata": {},
     "output_type": "execute_result"
    }
   ],
   "source": [
    "ham = nonsym_nn_xxz_ham();\n",
    "expectation_value(env,ham)"
   ]
  },
  {
   "cell_type": "markdown",
   "metadata": {},
   "source": [
    "To numerically approximate the gradient, we can use a number of different techniques. One such approximation is known as the channel approximation. To calculate these channels, you can simply call"
   ]
  },
  {
   "cell_type": "code",
   "execution_count": 10,
   "metadata": {},
   "outputs": [],
   "source": [
    "chan = channels(env,ham);"
   ]
  },
  {
   "cell_type": "markdown",
   "metadata": {},
   "source": [
    "While this object isn't very exciting in and of itself, we can use it to get the effective hamiltonian and gram matrix:"
   ]
  },
  {
   "cell_type": "code",
   "execution_count": 11,
   "metadata": {},
   "outputs": [
    {
     "data": {
      "text/plain": [
       "(ℂ^2 ⊗ ℂ^2 ⊗ (ℂ^2)' ⊗ (ℂ^2)' ⊗ ℂ^2) ← (ℂ^2 ⊗ ℂ^2 ⊗ (ℂ^2)' ⊗ (ℂ^2)' ⊗ ℂ^2)"
      ]
     },
     "execution_count": 11,
     "metadata": {},
     "output_type": "execute_result"
    }
   ],
   "source": [
    "(H_eff,N_eff) = PEPSKit.effectivehn(chan,2,2)\n",
    "codomain(H_eff) ← domain(H_eff)"
   ]
  },
  {
   "cell_type": "markdown",
   "metadata": {},
   "source": [
    "Let's calculate the gradient : "
   ]
  },
  {
   "cell_type": "code",
   "execution_count": 12,
   "metadata": {},
   "outputs": [
    {
     "data": {
      "text/plain": [
       "0.09481828243128787"
      ]
     },
     "execution_count": 12,
     "metadata": {},
     "output_type": "execute_result"
    }
   ],
   "source": [
    "v = permute(peps[2,2],(1,2,3,4,5))\n",
    "gradient = H_eff*v - dot(v,H_eff*v)*N_eff*v\n",
    "norm(gradient)"
   ]
  },
  {
   "cell_type": "markdown",
   "metadata": {},
   "source": [
    "The energy can also be minimized using algorithms from another package - OptimKit."
   ]
  },
  {
   "cell_type": "code",
   "execution_count": null,
   "metadata": {},
   "outputs": [
    {
     "name": "stderr",
     "output_type": "stream",
     "text": [
      "┌ Info: LBFGS: initializing with f = 0.481983660502, ‖∇f‖ = 1.5583e+00\n",
      "└ @ OptimKit /home/maarten/.julia/packages/OptimKit/xpmbV/src/lbfgs.jl:35\n",
      "┌ Info: trying stepsize 1.0\n",
      "└ @ PEPSKit /home/maarten/PEPSKit.jl/src/algorithms/groundstate/optimhook.jl:17\n",
      "┌ Info: trying stepsize 5.0\n",
      "└ @ PEPSKit /home/maarten/PEPSKit.jl/src/algorithms/groundstate/optimhook.jl:17\n",
      "┌ Info: trying stepsize 25.0\n",
      "└ @ PEPSKit /home/maarten/PEPSKit.jl/src/algorithms/groundstate/optimhook.jl:17\n",
      "┌ Info: trying stepsize 16.061185138233633\n",
      "└ @ PEPSKit /home/maarten/PEPSKit.jl/src/algorithms/groundstate/optimhook.jl:17\n",
      "┌ Info: LBFGS: iter    1: f = -0.246648633402, ‖∇f‖ = 2.5649e+00, α = 1.61e+01, m = 0, nfg = 4\n",
      "└ @ OptimKit /home/maarten/.julia/packages/OptimKit/xpmbV/src/lbfgs.jl:76\n",
      "┌ Info: trying stepsize 1.0\n",
      "└ @ PEPSKit /home/maarten/PEPSKit.jl/src/algorithms/groundstate/optimhook.jl:17\n",
      "┌ Info: LBFGS: iter    2: f = -0.461923056964, ‖∇f‖ = 2.0661e+00, α = 1.00e+00, m = 1, nfg = 1\n",
      "└ @ OptimKit /home/maarten/.julia/packages/OptimKit/xpmbV/src/lbfgs.jl:76\n",
      "┌ Info: trying stepsize 1.0\n",
      "└ @ PEPSKit /home/maarten/PEPSKit.jl/src/algorithms/groundstate/optimhook.jl:17\n",
      "┌ Info: trying stepsize 0.5\n",
      "└ @ PEPSKit /home/maarten/PEPSKit.jl/src/algorithms/groundstate/optimhook.jl:17\n",
      "┌ Info: trying stepsize 0.03183605876795651\n",
      "└ @ PEPSKit /home/maarten/PEPSKit.jl/src/algorithms/groundstate/optimhook.jl:17\n",
      "┌ Info: LBFGS: iter    3: f = -0.466183725145, ‖∇f‖ = 2.0361e+00, α = 3.18e-02, m = 2, nfg = 3\n",
      "└ @ OptimKit /home/maarten/.julia/packages/OptimKit/xpmbV/src/lbfgs.jl:76\n",
      "┌ Info: trying stepsize 1.0\n",
      "└ @ PEPSKit /home/maarten/PEPSKit.jl/src/algorithms/groundstate/optimhook.jl:17\n",
      "┌ Info: trying stepsize 0.5\n",
      "└ @ PEPSKit /home/maarten/PEPSKit.jl/src/algorithms/groundstate/optimhook.jl:17\n",
      "┌ Info: trying stepsize 0.019165624068344773\n",
      "└ @ PEPSKit /home/maarten/PEPSKit.jl/src/algorithms/groundstate/optimhook.jl:17\n",
      "┌ Info: trying stepsize 0.19202324254630335\n",
      "└ @ PEPSKit /home/maarten/PEPSKit.jl/src/algorithms/groundstate/optimhook.jl:17\n",
      "┌ Info: LBFGS: iter    4: f = -0.473742554269, ‖∇f‖ = 2.3478e+00, α = 1.92e-01, m = 2, nfg = 4\n",
      "└ @ OptimKit /home/maarten/.julia/packages/OptimKit/xpmbV/src/lbfgs.jl:76\n",
      "┌ Info: trying stepsize 1.0\n",
      "└ @ PEPSKit /home/maarten/PEPSKit.jl/src/algorithms/groundstate/optimhook.jl:17\n",
      "┌ Info: trying stepsize 0.8048124695431651\n",
      "└ @ PEPSKit /home/maarten/PEPSKit.jl/src/algorithms/groundstate/optimhook.jl:17\n",
      "┌ Info: trying stepsize 0.40240623477158255\n",
      "└ @ PEPSKit /home/maarten/PEPSKit.jl/src/algorithms/groundstate/optimhook.jl:17\n",
      "┌ Info: trying stepsize 0.29067667386503493\n",
      "└ @ PEPSKit /home/maarten/PEPSKit.jl/src/algorithms/groundstate/optimhook.jl:17\n",
      "┌ Info: trying stepsize 0.14533833693251746\n",
      "└ @ PEPSKit /home/maarten/PEPSKit.jl/src/algorithms/groundstate/optimhook.jl:17\n"
     ]
    }
   ],
   "source": [
    "optalg = LBFGS(linesearch = HagerZhangLineSearch(ϵ = 1e-3),maxiter=500,verbosity=2,gradtol=1e-2)\n",
    "\n",
    "(gs_state,gs_chan,delta) = find_groundstate(peps,ham,optalg,chan);"
   ]
  },
  {
   "cell_type": "code",
   "execution_count": null,
   "metadata": {},
   "outputs": [],
   "source": [
    "heatmap(real.(expectation_value(gs_chan,sz)))"
   ]
  },
  {
   "cell_type": "code",
   "execution_count": null,
   "metadata": {},
   "outputs": [],
   "source": []
  }
 ],
 "metadata": {
  "kernelspec": {
   "display_name": "Julia",
   "language": "julia",
   "name": "julia"
  },
  "language_info": {
   "file_extension": ".jl",
   "mimetype": "application/julia",
   "name": "julia",
   "version": "1.5.1"
  }
 },
 "nbformat": 4,
 "nbformat_minor": 2
}
